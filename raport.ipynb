{
 "cells": [
  {
   "cell_type": "markdown",
   "metadata": {},
   "source": [
    "![Alt Text](logo.png)"
   ]
  },
  {
   "cell_type": "markdown",
   "metadata": {},
   "source": [
    "### <center>Wydział Matematyki i Nauk Informacyjnych </center>"
   ]
  },
  {
   "cell_type": "markdown",
   "metadata": {},
   "source": [
    "## <center>Słowik Jadwiga i Sudra Sebastian</center>"
   ]
  },
  {
   "cell_type": "markdown",
   "metadata": {},
   "source": [
    "# <center>Warsaw - Transport</center>"
   ]
  },
  {
   "cell_type": "markdown",
   "metadata": {},
   "source": [
    "## 1. Zbieranie danych"
   ]
  },
  {
   "cell_type": "markdown",
   "metadata": {},
   "source": [
    "W dniach 27.05.2017 (sobota) i 28.05.2017 (poniedziałek) zbieraliśmy dane na temat tramwaji i autobusów online. Zapytania wysyłaliśmy cały dzień co 30 s.\n",
    "\tDane były pobierane przez serwis dane po warszawsku, który udostepniał serwer Api. Do pobierania i deserializowania wykorzystaliśmy pakiety: request i json w python.\n",
    "\tW poniższym raporcie przedstawimy prędkości komunikacji miejskiej, a także jej zagęszczenie. Sprawdzimy, w jakich dzielnicach komunikacja działa najsprawniej, a także porównamy ilość tramwaji do autobusów.\n",
    "\tNiestety czasami dostaliśmy dane zaburzone... coś by tu napisać o tym"
   ]
  },
  {
   "cell_type": "markdown",
   "metadata": {},
   "source": [
    "## 2. Ruch pojazdow komunikacji w sobotę"
   ]
  },
  {
   "cell_type": "markdown",
   "metadata": {},
   "source": [
    "### 2.1 Prędkości pojazdów komunikacji miejskiej"
   ]
  },
  {
   "cell_type": "markdown",
   "metadata": {},
   "source": [
    "#### 2.1.1 Warszawa ścisłe centrum i reszta"
   ]
  },
  {
   "cell_type": "markdown",
   "metadata": {},
   "source": [
    "<center>Prędkość średnia w Warszwie</center>"
   ]
  },
  {
   "cell_type": "markdown",
   "metadata": {},
   "source": [
    "![Alt Text](plots/2_1_1a.png)"
   ]
  },
  {
   "cell_type": "markdown",
   "metadata": {},
   "source": [
    "<center>Prędkość średnia w Warszwie, ścisłe centrum</center>"
   ]
  },
  {
   "cell_type": "markdown",
   "metadata": {},
   "source": [
    "![Alt Text](myCentrum.bmp)"
   ]
  },
  {
   "cell_type": "markdown",
   "metadata": {},
   "source": [
    "![Alt Text](plots/2_1_1b.png)"
   ]
  },
  {
   "cell_type": "markdown",
   "metadata": {},
   "source": [
    "<center>Prędkość średnia w Warszwie, poza centrum</center>"
   ]
  },
  {
   "cell_type": "markdown",
   "metadata": {},
   "source": [
    "![Alt Text](plots/2_1_1c.png)"
   ]
  },
  {
   "cell_type": "markdown",
   "metadata": {},
   "source": [
    "**Wnioski:**"
   ]
  },
  {
   "cell_type": "markdown",
   "metadata": {},
   "source": [
    "<center>Przedstawienie prędkości dla każdej lini</center>"
   ]
  },
  {
   "cell_type": "code",
   "execution_count": 8,
   "metadata": {
    "collapsed": false
   },
   "outputs": [
    {
     "name": "stdout",
     "output_type": "stream",
     "text": [
      "Error\n",
      "Error\n",
      "Error\n",
      "Error\n",
      "Error\n",
      "Error\n",
      "Error\n",
      "                Avg        Max\n",
      "ex        31.889168  68.551581\n",
      "L18       30.247735  56.749684\n",
      "N50       28.355534  64.565810\n",
      "720       27.901363  68.989445\n",
      "800       27.488971  64.311236\n",
      "743       27.481762  64.562650\n",
      "733       27.140929  74.774027\n",
      "N58       27.065617  62.153049\n",
      "n50       26.895931  69.235925\n",
      "734       26.728035  75.441655\n",
      "735       25.255074  76.109547\n",
      "L29       25.219980  65.335295\n",
      "705       25.173079  85.638606\n",
      "L25       24.994717  69.647142\n",
      "N03       24.822291  77.670163\n",
      "742       24.812982  78.408805\n",
      "N22       24.776700  97.926858\n",
      "173       24.726084  40.093916\n",
      "730       24.681231  59.768226\n",
      "411       24.501679  31.039068\n",
      "703       24.195847  66.068622\n",
      "N24       24.059581  49.094348\n",
      "N14       23.561410  74.192477\n",
      "345       23.403253  50.935896\n",
      "L20       23.208762  79.455982\n",
      "N13       23.189653  76.442329\n",
      "725       23.184597  95.858674\n",
      "N63       23.116978  76.947827\n",
      "736       22.921742  70.973856\n",
      "722       22.809098  70.055622\n",
      "...             ...        ...\n",
      "4         12.108236  75.372806\n",
      "155       11.919106  59.295544\n",
      "205       11.776197  83.804422\n",
      "208       11.634880  45.667901\n",
      "206       11.530635  37.772951\n",
      "222       11.514561  52.811363\n",
      "203       11.512322  85.227251\n",
      "193       11.386433  79.669744\n",
      "262       11.248776  64.441967\n",
      "175       11.102055  73.979950\n",
      "245       11.074667  50.765414\n",
      "14        11.040743  45.598779\n",
      "27        10.891440  48.708454\n",
      "165       10.680362  63.213649\n",
      "256       10.593544  56.666622\n",
      "128       10.530922  84.580119\n",
      "212       10.442159  36.364305\n",
      "Z-1       10.342811  87.511281\n",
      "L-5        9.959159  96.514220\n",
      "201        8.425989  88.574843\n",
      "221        8.395156  54.623008\n",
      "REZ/C93B   7.731111  40.822293\n",
      "Z          7.230706  71.375938\n",
      "31         5.993518  51.385098\n",
      "L-2        5.919930  92.728982\n",
      "900        5.062326  42.103211\n",
      "904        4.846211  47.989568\n",
      "REZ/C93    3.087798  94.579491\n",
      "903        2.047381  31.730509\n",
      "401        0.217779  10.534000\n",
      "\n",
      "[261 rows x 2 columns]\n"
     ]
    },
    {
     "name": "stderr",
     "output_type": "stream",
     "text": [
      "C:\\Users\\RAPTOR\\Documents\\script.py:176: FutureWarning: sort(columns=....) is deprecated, use sort_values(by=.....)\n",
      "  print(df1.sort(['Avg'], ascending=[0]))\n"
     ]
    }
   ],
   "source": [
    "from script import createTable\n",
    "\n",
    "createTable()"
   ]
  },
  {
   "cell_type": "markdown",
   "metadata": {},
   "source": [
    "**Wnioski:**"
   ]
  },
  {
   "cell_type": "markdown",
   "metadata": {},
   "source": [
    "#### 2.1.2 Przykładowe dzielnice"
   ]
  },
  {
   "cell_type": "markdown",
   "metadata": {},
   "source": [
    "<center>Wola</center>"
   ]
  },
  {
   "cell_type": "markdown",
   "metadata": {},
   "source": [
    "![Alt Text](plots/2_1_2a.png)"
   ]
  },
  {
   "cell_type": "markdown",
   "metadata": {},
   "source": [
    "<center>Mokotów</center>"
   ]
  },
  {
   "cell_type": "markdown",
   "metadata": {},
   "source": [
    "![Alt Text](plots/2_1_2b.png)"
   ]
  },
  {
   "cell_type": "markdown",
   "metadata": {},
   "source": [
    "<center>Ursynów</center>"
   ]
  },
  {
   "cell_type": "markdown",
   "metadata": {},
   "source": [
    "![Alt Text](plots/2_1_2c.png)"
   ]
  },
  {
   "cell_type": "markdown",
   "metadata": {},
   "source": [
    "<center>Białołęka</center>"
   ]
  },
  {
   "cell_type": "markdown",
   "metadata": {},
   "source": [
    "![Alt Text](plots/2_1_2d.png)"
   ]
  },
  {
   "cell_type": "markdown",
   "metadata": {},
   "source": [
    "<center>Porównanie autobusów</center>"
   ]
  },
  {
   "cell_type": "markdown",
   "metadata": {},
   "source": [
    "![Alt Text](plots/2_1_2e.png)"
   ]
  },
  {
   "cell_type": "markdown",
   "metadata": {},
   "source": [
    "<center>Porównanie tramwajów</center>"
   ]
  },
  {
   "cell_type": "markdown",
   "metadata": {},
   "source": [
    "![Alt Text](plots/2_1_2f.png)"
   ]
  },
  {
   "cell_type": "markdown",
   "metadata": {},
   "source": [
    "**Wnioski:**"
   ]
  },
  {
   "cell_type": "markdown",
   "metadata": {},
   "source": [
    "## 2.2 Zagęszczenie pojazdów komunikacji miejskiej"
   ]
  },
  {
   "cell_type": "markdown",
   "metadata": {},
   "source": [
    "### 2.2.1 Warszawa ścisłe centrum i reszta"
   ]
  },
  {
   "cell_type": "markdown",
   "metadata": {},
   "source": [
    "<center>Zagęszczenie w Warszwie</center>"
   ]
  },
  {
   "cell_type": "markdown",
   "metadata": {},
   "source": [
    "![Alt Text](plots/2_2_1a.png)"
   ]
  },
  {
   "cell_type": "markdown",
   "metadata": {},
   "source": [
    "<center>Zagęszczenie w Warszwie, ścisłe centrum</center>"
   ]
  },
  {
   "cell_type": "markdown",
   "metadata": {},
   "source": [
    "![Alt Text](plots/2_2_1b.png)"
   ]
  },
  {
   "cell_type": "markdown",
   "metadata": {},
   "source": [
    "<center>Zagęszczenie w Warszwie, poza centrum</center>"
   ]
  },
  {
   "cell_type": "markdown",
   "metadata": {},
   "source": [
    "![Alt Text](plots/2_2_1c.png)"
   ]
  },
  {
   "cell_type": "markdown",
   "metadata": {},
   "source": [
    "**Wnioski:**"
   ]
  },
  {
   "cell_type": "markdown",
   "metadata": {},
   "source": [
    "### 2.2.2 Przykładowe dzielnice"
   ]
  },
  {
   "cell_type": "markdown",
   "metadata": {},
   "source": [
    "<center>Wola</center>"
   ]
  },
  {
   "cell_type": "markdown",
   "metadata": {},
   "source": [
    "![Alt Text](plots/2_2_2a.png)"
   ]
  },
  {
   "cell_type": "markdown",
   "metadata": {},
   "source": [
    "<center>Mokotów</center>"
   ]
  },
  {
   "cell_type": "markdown",
   "metadata": {},
   "source": [
    "![Alt Text](plots/2_2_2b.png)"
   ]
  },
  {
   "cell_type": "markdown",
   "metadata": {},
   "source": [
    "<center>Ursynów</center>"
   ]
  },
  {
   "cell_type": "markdown",
   "metadata": {},
   "source": [
    "![Alt Text](plots/2_2_2c.png)"
   ]
  },
  {
   "cell_type": "markdown",
   "metadata": {},
   "source": [
    "<center>Białołęka</center>"
   ]
  },
  {
   "cell_type": "markdown",
   "metadata": {},
   "source": [
    "![Alt Text](plots/2_2_2d.png)"
   ]
  },
  {
   "cell_type": "markdown",
   "metadata": {},
   "source": [
    "<center>Porównanie autobusów</center>"
   ]
  },
  {
   "cell_type": "markdown",
   "metadata": {},
   "source": [
    "![Alt Text](plots/2_2_2e.png)"
   ]
  },
  {
   "cell_type": "markdown",
   "metadata": {},
   "source": [
    "<center>Porównanie tramwajów</center>"
   ]
  },
  {
   "cell_type": "markdown",
   "metadata": {},
   "source": [
    "![Alt Text](plots/2_2_2f.png)"
   ]
  },
  {
   "cell_type": "markdown",
   "metadata": {},
   "source": [
    "**Wnioski:**"
   ]
  },
  {
   "cell_type": "code",
   "execution_count": null,
   "metadata": {
    "collapsed": true
   },
   "outputs": [],
   "source": []
  }
 ],
 "metadata": {
  "kernelspec": {
   "display_name": "Python 3",
   "language": "python",
   "name": "python3"
  },
  "language_info": {
   "codemirror_mode": {
    "name": "ipython",
    "version": 3
   },
   "file_extension": ".py",
   "mimetype": "text/x-python",
   "name": "python",
   "nbconvert_exporter": "python",
   "pygments_lexer": "ipython3",
   "version": "3.6.0"
  }
 },
 "nbformat": 4,
 "nbformat_minor": 2
}
