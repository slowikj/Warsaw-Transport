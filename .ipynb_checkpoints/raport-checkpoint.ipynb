{
 "cells": [
  {
   "cell_type": "markdown",
   "metadata": {},
   "source": [
    "![Alt Text](logo.png)"
   ]
  },
  {
   "cell_type": "markdown",
   "metadata": {},
   "source": [
    "### <center>Wydział Matematyki i Nauk Informacyjnych </center>"
   ]
  },
  {
   "cell_type": "markdown",
   "metadata": {},
   "source": [
    "## <center>Słowik Jadwiga i Sudra Sebastian</center>"
   ]
  },
  {
   "cell_type": "markdown",
   "metadata": {},
   "source": [
    "# <center>Warsaw - Transport</center>"
   ]
  },
  {
   "cell_type": "markdown",
   "metadata": {},
   "source": [
    "## 1. Zbieranie danych"
   ]
  },
  {
   "cell_type": "markdown",
   "metadata": {},
   "source": [
    "Dane dotyczące warszawskiej sieci komunikacyjnej zostały zebrane w trybie on-line w dniach 27.05.2017 (sobota) i 28.05.2017 (poniedziałek). Dzięki portalowi „Dane po warszawsku”, który udostępniał serwer Api, możliwe było pobranie materiału dotyczącego transportu miejskiego. Zapytania do serwera były generowane przez całe dwa dni co 30 sekund. Do pobierania i deserializowania danych wykorzystane zostały pakiety Request i Json w Python. Niniejszy Raport stanowi prezentację informacji publicznych na temat prędkości pojazdów komunikacji warszawskiej, ich zagęszczenia z podziałem na środek transportu (autobus vs tramwaj) i porę dnia w centrum miasta oraz wybranych dzielnicach. Należy przyznać, iż niektóre otrzymane dane były nieczytelne, co było najczęściej wynikiem wad systemu bądź oddziaływania niezależnych czynników zewnętrznych."
   ]
  },
  {
   "cell_type": "markdown",
   "metadata": {},
   "source": [
    "## 2. Ruch pojazdow komunikacji w sobotę"
   ]
  },
  {
   "cell_type": "markdown",
   "metadata": {},
   "source": [
    "### 2.1 Prędkości pojazdów komunikacji miejskiej"
   ]
  },
  {
   "cell_type": "markdown",
   "metadata": {},
   "source": [
    "#### 2.1.1 Warszawa ścisłe centrum i reszta"
   ]
  },
  {
   "cell_type": "markdown",
   "metadata": {},
   "source": [
    "<center>Prędkość średnia w Warszawie</center>"
   ]
  },
  {
   "cell_type": "markdown",
   "metadata": {},
   "source": [
    "![Alt Text](plots/2_1_1a.png)"
   ]
  },
  {
   "cell_type": "markdown",
   "metadata": {},
   "source": [
    "<center>Prędkość średnia w Warszawie, ścisłe centrum</center>"
   ]
  },
  {
   "cell_type": "markdown",
   "metadata": {},
   "source": [
    "![Alt Text](myCentrum.bmp)"
   ]
  },
  {
   "cell_type": "markdown",
   "metadata": {},
   "source": [
    "![Alt Text](plots/2_1_1b.png)"
   ]
  },
  {
   "cell_type": "markdown",
   "metadata": {},
   "source": [
    "<center>Prędkość średnia w Warszawie, poza centrum</center>"
   ]
  },
  {
   "cell_type": "markdown",
   "metadata": {},
   "source": [
    "![Alt Text](plots/2_1_1c.png)"
   ]
  },
  {
   "cell_type": "markdown",
   "metadata": {},
   "source": [
    "**Wnioski:** Z przeprowadzonej analizy danych dotyczących ogólnej średniej prędkości pojazdów miejskich wynika, że autobusy miejskie posiadają niewiele wyższą średnią prędkość od tramwajów w godzinach 8:00 – 20:00. Największe zauważalne różnice odnotowano w godzinach nocnych. Podczas gdy, średnia prędkość autobusów była wyższa w nocy niż w dzień, kursowania tramwajów nie odnotowano.\n",
    "\n",
    "W ścisłym centrum miasta zauważono, iż średnia prędkość tramwajów jest znacznie wyższa od autobusów w ciągu dnia. W nocy, po godzinie 2:00 nie odnotowano ruchu tramwajów. Zauważono natomiast znaczne wahania średniej prędkości autobusów nocnych.\n",
    "Inaczej sytuacja prezentuje się na pozostałych obszarach miasta. Autobusy poruszają się szybciej od tramwajów. Średnia prędkość tramwajów na trasach znajdujących się poza centrum jest znacznie niższa niż w centrum. Również nie odnotowano kursowania nocnych tramwajów. Natomiast autobusy na tym terenie nocą poruszają się znacznie szybciej niż w ciągu dnia.\n"
   ]
  },
  {
   "cell_type": "markdown",
   "metadata": {},
   "source": [
    "<center>Przedstawienie prędkości dla każdej linii</center>"
   ]
  },
  {
   "cell_type": "code",
   "execution_count": 1,
   "metadata": {
    "collapsed": false
   },
   "outputs": [
    {
     "name": "stdout",
     "output_type": "stream",
     "text": [
      "                Avg        Max\n",
      "ex        31.889168  68.551581\n",
      "L18       30.247735  56.749684\n",
      "N50       28.355534  64.565810\n",
      "720       27.901363  68.989445\n",
      "800       27.488971  64.311236\n",
      "743       27.481762  64.562650\n",
      "733       27.140929  74.774027\n",
      "N58       27.065617  62.153049\n",
      "n50       26.895931  69.235925\n",
      "734       26.728035  75.441655\n",
      "735       25.255074  76.109547\n",
      "L29       25.219980  65.335295\n",
      "705       25.173079  85.638606\n",
      "L25       24.994717  69.647142\n",
      "N03       24.822291  77.670163\n",
      "742       24.812982  78.408805\n",
      "N22       24.776700  97.926858\n",
      "173       24.726084  40.093916\n",
      "730       24.681231  59.768226\n",
      "411       24.501679  31.039068\n",
      "703       24.195847  66.068622\n",
      "N24       24.059581  49.094348\n",
      "N14       23.561410  74.192477\n",
      "345       23.403253  50.935896\n",
      "L20       23.208762  79.455982\n",
      "N13       23.189653  76.442329\n",
      "725       23.184597  95.858674\n",
      "N63       23.116978  76.947827\n",
      "736       22.921742  70.973856\n",
      "722       22.809098  70.055622\n",
      "...             ...        ...\n",
      "4         12.108236  75.372806\n",
      "155       11.919106  59.295544\n",
      "205       11.776197  83.804422\n",
      "208       11.634880  45.667901\n",
      "206       11.530635  37.772951\n",
      "222       11.514561  52.811363\n",
      "203       11.512322  85.227251\n",
      "193       11.386433  79.669744\n",
      "262       11.248776  64.441967\n",
      "175       11.102055  73.979950\n",
      "245       11.074667  50.765414\n",
      "14        11.040743  45.598779\n",
      "27        10.891440  48.708454\n",
      "165       10.680362  63.213649\n",
      "256       10.593544  56.666622\n",
      "128       10.530922  84.580119\n",
      "212       10.442159  36.364305\n",
      "Z-1       10.342811  87.511281\n",
      "L-5        9.959159  96.514220\n",
      "201        8.425989  88.574843\n",
      "221        8.395156  54.623008\n",
      "REZ/C93B   7.731111  40.822293\n",
      "Z          7.230706  71.375938\n",
      "31         5.993518  51.385098\n",
      "L-2        5.919930  92.728982\n",
      "900        5.062326  42.103211\n",
      "904        4.846211  47.989568\n",
      "REZ/C93    3.087798  94.579491\n",
      "903        2.047381  31.730509\n",
      "401        0.217779  10.534000\n",
      "\n",
      "[261 rows x 2 columns]\n"
     ]
    }
   ],
   "source": [
    "from script import createTable\n",
    "\n",
    "createTable()"
   ]
  },
  {
   "cell_type": "markdown",
   "metadata": {},
   "source": [
    "**Wnioski:** Powyższe wnioski potwierdza szczegółowe przedstawienie średniej prędkości dla każdej linii komunikacyjnej. Średnia prędkość autobusów jest wyższa w nocy niż dzień. Średnia prędkość dla obu środków transportów jest zbliżona."
   ]
  },
  {
   "cell_type": "markdown",
   "metadata": {},
   "source": [
    "#### 2.1.2 Przykładowe dzielnice"
   ]
  },
  {
   "cell_type": "markdown",
   "metadata": {},
   "source": [
    "<center>Wola</center>"
   ]
  },
  {
   "cell_type": "markdown",
   "metadata": {},
   "source": [
    "![Alt Text](plots/2_1_2a.png)"
   ]
  },
  {
   "cell_type": "markdown",
   "metadata": {},
   "source": [
    "<center>Mokotów</center>"
   ]
  },
  {
   "cell_type": "markdown",
   "metadata": {},
   "source": [
    "![Alt Text](plots/2_1_2b.png)"
   ]
  },
  {
   "cell_type": "markdown",
   "metadata": {},
   "source": [
    "<center>Ursynów</center>"
   ]
  },
  {
   "cell_type": "markdown",
   "metadata": {},
   "source": [
    "![Alt Text](plots/2_1_2c.png)"
   ]
  },
  {
   "cell_type": "markdown",
   "metadata": {},
   "source": [
    "<center>Białołęka</center>"
   ]
  },
  {
   "cell_type": "markdown",
   "metadata": {},
   "source": [
    "![Alt Text](plots/2_1_2d.png)"
   ]
  },
  {
   "cell_type": "markdown",
   "metadata": {},
   "source": [
    "<center>Porównanie autobusów</center>"
   ]
  },
  {
   "cell_type": "markdown",
   "metadata": {},
   "source": [
    "![Alt Text](plots/2_1_2e.png)"
   ]
  },
  {
   "cell_type": "markdown",
   "metadata": {},
   "source": [
    "<center>Porównanie tramwajów</center>"
   ]
  },
  {
   "cell_type": "markdown",
   "metadata": {},
   "source": [
    "![Alt Text](plots/2_1_2f.png)"
   ]
  },
  {
   "cell_type": "markdown",
   "metadata": {},
   "source": [
    "**Wnioski:** W analizie uwzględniono następujące dzielnice Warszawy: Wola, Mokotów, Ursynów, Białołęka. Na Woli i Mokotowie odnotowano zbliżone średnie prędkości środków komunikacji miejskiej, przy czym, w pierwszej analizowanej dzielnicy tramwaje jeżdżą nieco szybciej niż autobusy. Zaś na Mokotowie, autobusy posiadają nieco wyższą średnią prędkość. W obu przypadkach nie odnotowano nocnego kursowania tramwajów. Co ważne, w przypadku ruchu nocnych autobusów zauważono wyższą średnią prędkość niż wśród dziennych, przy czym na Woli średnia prędkość nocnych autobusów osiągała około 35 km/h. Największe różnice w kursowaniu autobusów i tramwajów występują na dwóch pozostałych obszarach. Zwraca uwagę niska średnia prędkość tramwajów na poziomie około 15 km/h oraz duże wahania ruchu autobusów nocnych, wśród których maksymalna prędkość dochodziła nawet do 40 km/h na Białołęce. Z wykresów prezentujących porównanie danych wysuwa się ciekawy wniosek wskazujący na fakt, że średnia prędkość autobusów na Woli należy do jednych z najniższych, zaś tramwajów – do jednych z najwyższych. \n"
   ]
  },
  {
   "cell_type": "markdown",
   "metadata": {},
   "source": [
    "## 2.2 Zagęszczenie pojazdów komunikacji miejskiej"
   ]
  },
  {
   "cell_type": "markdown",
   "metadata": {},
   "source": [
    "### 2.2.1 Warszawa ścisłe centrum i reszta"
   ]
  },
  {
   "cell_type": "markdown",
   "metadata": {},
   "source": [
    "<center>Zagęszczenie w Warszawie</center>"
   ]
  },
  {
   "cell_type": "markdown",
   "metadata": {},
   "source": [
    "![Alt Text](plots/2_2_1a.png)"
   ]
  },
  {
   "cell_type": "markdown",
   "metadata": {},
   "source": [
    "<center>Zagęszczenie w Warszawie, ścisłe centrum</center>"
   ]
  },
  {
   "cell_type": "markdown",
   "metadata": {},
   "source": [
    "![Alt Text](plots/2_2_1b.png)"
   ]
  },
  {
   "cell_type": "markdown",
   "metadata": {},
   "source": [
    "<center>Zagęszczenie w Warszawie, poza centrum</center>"
   ]
  },
  {
   "cell_type": "markdown",
   "metadata": {},
   "source": [
    "![Alt Text](plots/2_2_1c.png)"
   ]
  },
  {
   "cell_type": "markdown",
   "metadata": {},
   "source": [
    "**Wnioski:** Analiza danych dotyczących zagęszczenia pojazdów transportu miejskiego wyraźnie wskazuje na dominację autobusów, których liczba sięga ponad 700 w ciągu dnia (w porównaniu do tramwajów, których jest niecałe 200). W porach nocnych znacznie mniej autobusów oraz tramwajów można zobaczyć na warszawskich ulicach. \n",
    "\n",
    "Co ważne, w samym ścisłych centrum Warszawy kursuje sześciokrotnie mniej autobusów oraz tramwajów niż na pozostałych terenach.\n",
    "\n"
   ]
  },
  {
   "cell_type": "markdown",
   "metadata": {},
   "source": [
    "### 2.2.2 Przykładowe dzielnice"
   ]
  },
  {
   "cell_type": "markdown",
   "metadata": {},
   "source": [
    "<center>Wola</center>"
   ]
  },
  {
   "cell_type": "markdown",
   "metadata": {},
   "source": [
    "![Alt Text](plots/2_2_2a.png)"
   ]
  },
  {
   "cell_type": "markdown",
   "metadata": {},
   "source": [
    "<center>Mokotów</center>"
   ]
  },
  {
   "cell_type": "markdown",
   "metadata": {},
   "source": [
    "![Alt Text](plots/2_2_2b.png)"
   ]
  },
  {
   "cell_type": "markdown",
   "metadata": {},
   "source": [
    "<center>Ursynów</center>"
   ]
  },
  {
   "cell_type": "markdown",
   "metadata": {},
   "source": [
    "![Alt Text](plots/2_2_2c.png)"
   ]
  },
  {
   "cell_type": "markdown",
   "metadata": {},
   "source": [
    "<center>Białołęka</center>"
   ]
  },
  {
   "cell_type": "markdown",
   "metadata": {},
   "source": [
    "![Alt Text](plots/2_2_2d.png)"
   ]
  },
  {
   "cell_type": "markdown",
   "metadata": {},
   "source": [
    "<center>Porównanie autobusów</center>"
   ]
  },
  {
   "cell_type": "markdown",
   "metadata": {},
   "source": [
    "![Alt Text](plots/2_2_2e.png)"
   ]
  },
  {
   "cell_type": "markdown",
   "metadata": {},
   "source": [
    "<center>Porównanie tramwajów</center>"
   ]
  },
  {
   "cell_type": "markdown",
   "metadata": {},
   "source": [
    "![Alt Text](plots/2_2_2f.png)"
   ]
  },
  {
   "cell_type": "markdown",
   "metadata": {},
   "source": [
    "**Wnioski:** Mimo, iż na Woli występuje dwukrotnie mniej autobusów niż na Mokotowie, to liczba kursujących tam tramwajów jest najwyższa na tle pozostałych wybranych dzielnic. Najmniejszą liczbę autobusów odnotowano na Białołęce, a tramwajów na Ursynowie. W godzinach nocnych zaobserwowano zbliżoną (niewielką) liczbę środków transportu w poszczególnych dzielnicach. "
   ]
  },
  {
   "cell_type": "markdown",
   "metadata": {
    "collapsed": true
   },
   "source": [
    "## 3. Ruch pojazdow komunikacji w poniedziałek"
   ]
  },
  {
   "cell_type": "markdown",
   "metadata": {},
   "source": [
    "### 3.1 Prędkości pojazdów komunikacji miejskiej"
   ]
  },
  {
   "cell_type": "markdown",
   "metadata": {},
   "source": [
    "<center>Prędkość średnia w Warszawie</center>"
   ]
  },
  {
   "cell_type": "markdown",
   "metadata": {},
   "source": [
    "![Alt Text](plots/3_1a.png)"
   ]
  },
  {
   "cell_type": "markdown",
   "metadata": {},
   "source": [
    "<center>Prędkość średnia w Warszawie, ścisłe centrum</center>"
   ]
  },
  {
   "cell_type": "markdown",
   "metadata": {},
   "source": [
    "![Alt Text](plots/3_1b.png)"
   ]
  },
  {
   "cell_type": "markdown",
   "metadata": {},
   "source": [
    "<center>Prędkość średnia w Warszawie, poza centrum</center>"
   ]
  },
  {
   "cell_type": "markdown",
   "metadata": {},
   "source": [
    "![Alt Text](plots/3_1c.png)"
   ]
  },
  {
   "cell_type": "markdown",
   "metadata": {},
   "source": [
    "**Wnioski:** W ciągu dnia można zaobserwować zbliżoną średnią prędkość pojazdów bez dominacji któregokolwiek. Co ciekawe, nie zauważono ruchu tramwajów nie tylko nocą, ale także między godziną 21:00 a 22:00. \n",
    "W ścisłym centrum miasta zauważalna jest niewiele wyższa średnia prędkość tramwajów w ciągu dnia. W nocy widoczne są duże wahania prędkości autobusów. Poza centrum miasta, nieco szybciej jeżdżą autobusy, które nocą osiągają znacznie wyższe prędkości niż w dzień.\n"
   ]
  },
  {
   "cell_type": "markdown",
   "metadata": {},
   "source": [
    "### 3.2 Porównanie prędkości pojazdów komunikacji miejskiej ze soboty i poniedziałku"
   ]
  },
  {
   "cell_type": "markdown",
   "metadata": {},
   "source": [
    "### 3.2.1 Porównanie autobusów"
   ]
  },
  {
   "cell_type": "markdown",
   "metadata": {},
   "source": [
    "<center>Prędkość średnia w Warszawie</center>"
   ]
  },
  {
   "cell_type": "markdown",
   "metadata": {},
   "source": [
    "![Alt Text](plots/3_2_1a.png)"
   ]
  },
  {
   "cell_type": "markdown",
   "metadata": {},
   "source": [
    "<center>Prędkość średnia w Warszawie, ścisłe centrum</center>"
   ]
  },
  {
   "cell_type": "markdown",
   "metadata": {},
   "source": [
    "![Alt Text](plots/3_2_1b.png)"
   ]
  },
  {
   "cell_type": "markdown",
   "metadata": {},
   "source": [
    "<center>Prędkość średnia w Warszawie, poza centrum</center>"
   ]
  },
  {
   "cell_type": "markdown",
   "metadata": {},
   "source": [
    "![Alt Text](plots/3_2_1c.png)"
   ]
  },
  {
   "cell_type": "markdown",
   "metadata": {},
   "source": [
    "**Wnioski:** W ciągu dnia można zaobserwować zbliżoną średnią prędkość pojazdów bez dominacji któregokolwiek. Co ciekawe, nie zauważono ruchu tramwajów nie tylko nocą, ale także między godziną 21:00 a 22:00. \n",
    "W ścisłym centrum miasta zauważalna jest niewiele wyższa średnia prędkość tramwajów w ciągu dnia. W nocy widoczne są duże wahania prędkości autobusów. Poza centrum miasta, nieco szybciej jeżdżą autobusy, które nocą osiągają znacznie wyższe prędkości niż w dzień.\n"
   ]
  },
  {
   "cell_type": "markdown",
   "metadata": {},
   "source": [
    "### 3.2.1 Porównanie tramwajów"
   ]
  },
  {
   "cell_type": "markdown",
   "metadata": {},
   "source": [
    "<center>Prędkość średnia w Warszawie</center>"
   ]
  },
  {
   "cell_type": "markdown",
   "metadata": {},
   "source": [
    "![Alt Text](plots/3_2_2a.png)"
   ]
  },
  {
   "cell_type": "markdown",
   "metadata": {},
   "source": [
    "<center>Prędkość średnia w Warszawie, poza centrum</center>"
   ]
  },
  {
   "cell_type": "markdown",
   "metadata": {},
   "source": [
    "![Alt Text](plots/3_2_2b.png)"
   ]
  },
  {
   "cell_type": "markdown",
   "metadata": {},
   "source": [
    "<center>Prędkość średnia w Warszawie, poza centrum</center>"
   ]
  },
  {
   "cell_type": "markdown",
   "metadata": {},
   "source": [
    "![Alt Text](plots/3_2_2c.png)"
   ]
  },
  {
   "cell_type": "markdown",
   "metadata": {},
   "source": [
    "**Wnioski:** Analiza porównawcza średniej prędkości pojazdów komunikacji miejskiej pokazuje, że pojazdy nieco szybciej poruszały się w sobotę, zwłaszcza poza centrum miasta. Autobusy rano wolniej poruszaly się w poniedziałek, spewność jest to spowodowanę faktem, że ludzie jadą do pracy. Wieczorem zaś okazuje się, że autobusy w sobotę poruszają się wolniej. Przyczyną może być to, e jest to dzień wolny i więcej ludzi wychodzi wieczorem miło spędzić czas. Natomiast, w przypadku tramwajów obserwuje się zbliżoną prędkość w porównywanych dniach. "
   ]
  },
  {
   "cell_type": "code",
   "execution_count": null,
   "metadata": {
    "collapsed": true
   },
   "outputs": [],
   "source": []
  }
 ],
 "metadata": {
  "kernelspec": {
   "display_name": "Python 3",
   "language": "python",
   "name": "python3"
  },
  "language_info": {
   "codemirror_mode": {
    "name": "ipython",
    "version": 3
   },
   "file_extension": ".py",
   "mimetype": "text/x-python",
   "name": "python",
   "nbconvert_exporter": "python",
   "pygments_lexer": "ipython3",
   "version": "3.6.0"
  }
 },
 "nbformat": 4,
 "nbformat_minor": 2
}
