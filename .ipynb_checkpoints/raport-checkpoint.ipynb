{
 "cells": [
  {
   "cell_type": "markdown",
   "metadata": {},
   "source": [
    "![Alt Text](logo.png)"
   ]
  },
  {
   "cell_type": "markdown",
   "metadata": {},
   "source": [
    "### <center>Wydział Matematyki i Nauk Informacyjnych </center>"
   ]
  },
  {
   "cell_type": "markdown",
   "metadata": {},
   "source": [
    "## <center>Słowik Jadwiga i Sudra Sebastian</center>"
   ]
  },
  {
   "cell_type": "markdown",
   "metadata": {},
   "source": [
    "# <center>Warsaw - Transport</center>"
   ]
  },
  {
   "cell_type": "markdown",
   "metadata": {},
   "source": [
    "## 1. Zbieranie danych"
   ]
  },
  {
   "cell_type": "markdown",
   "metadata": {},
   "source": [
    "Dane dotyczące warszawskiej sieci komunikacyjnej zostały zebrane w trybie on-line w dniach 27.05.2017 (sobota) i 28.05.2017 (poniedziałek). Dzięki portalowi „Dane po warszawsku”, który udostępniał serwer Api, możliwe było pobranie materiału dotyczącego transportu miejskiego. Zapytania do serwera były generowane przez całe dwa dni co 30 sekund. Do pobierania i deserializowania danych wykorzystane zostały pakiety Request i Json w Python. Niniejszy Raport stanowi prezentację informacji publicznych na temat prędkości pojazdów komunikacji warszawskiej, ich zagęszczenia z podziałem na środek transportu (autobus vs tramwaj) i porę dnia w centrum miasta oraz wybranych dzielnicach. Należy przyznać, iż niektóre otrzymane dane były nieczytelne, co było najczęściej wynikiem wad systemu bądź oddziaływania niezależnych czynników zewnętrznych."
   ]
  },
  {
   "cell_type": "markdown",
   "metadata": {},
   "source": [
    "## 2. Ruch pojazdow komunikacji w sobotę"
   ]
  },
  {
   "cell_type": "markdown",
   "metadata": {},
   "source": [
    "### 2.1 Prędkości pojazdów komunikacji miejskiej"
   ]
  },
  {
   "cell_type": "markdown",
   "metadata": {},
   "source": [
    "#### 2.1.1 Warszawa ścisłe centrum i reszta"
   ]
  },
  {
   "cell_type": "markdown",
   "metadata": {},
   "source": [
    "<center>Prędkość średnia w Warszawie</center>"
   ]
  },
  {
   "cell_type": "markdown",
   "metadata": {},
   "source": [
    "![Alt Text](plots/2_1_1a.png)"
   ]
  },
  {
   "cell_type": "markdown",
   "metadata": {},
   "source": [
    "<center>Prędkość średnia w Warszawie, ścisłe centrum</center>"
   ]
  },
  {
   "cell_type": "markdown",
   "metadata": {},
   "source": [
    "![Alt Text](myCentrum.bmp)"
   ]
  },
  {
   "cell_type": "markdown",
   "metadata": {},
   "source": [
    "![Alt Text](plots/2_1_1b.png)"
   ]
  },
  {
   "cell_type": "markdown",
   "metadata": {},
   "source": [
    "<center>Prędkość średnia w Warszawie, poza centrum</center>"
   ]
  },
  {
   "cell_type": "markdown",
   "metadata": {},
   "source": [
    "![Alt Text](plots/2_1_1c.png)"
   ]
  },
  {
   "cell_type": "markdown",
   "metadata": {},
   "source": [
    "**Wnioski:** Z przeprowadzonej analizy danych dotyczących ogólnej średniej prędkości pojazdów miejskich wynika, że autobusy miejskie posiadają niewiele wyższą średnią prędkość od tramwajów w godzinach 8:00 – 20:00. Największe zauważalne różnice odnotowano w godzinach nocnych. Podczas gdy, średnia prędkość autobusów była wyższa w nocy niż w dzień, kursowania tramwajów nie odnotowano.\n",
    "\n",
    "W ścisłym centrum miasta zauważono, iż średnia prędkość tramwajów jest znacznie wyższa od autobusów w ciągu dnia. W nocy, po godzinie 2:00 nie odnotowano ruchu tramwajów. Zauważono natomiast znaczne wahania średniej prędkości autobusów nocnych.\n",
    "Inaczej sytuacja prezentuje się na pozostałych obszarach miasta. Autobusy poruszają się szybciej od tramwajów. Średnia prędkość tramwajów na trasach znajdujących się poza centrum jest znacznie niższa niż w centrum. Również nie odnotowano kursowania nocnych tramwajów. Natomiast autobusy na tym terenie nocą poruszają się znacznie szybciej niż w ciągu dnia.\n"
   ]
  },
  {
   "cell_type": "markdown",
   "metadata": {},
   "source": [
    "<center>Przedstawienie prędkości dla każdej linii</center>"
   ]
  },
  {
   "cell_type": "code",
   "execution_count": 1,
   "metadata": {
    "collapsed": false
   },
   "outputs": [
    {
     "name": "stdout",
     "output_type": "stream",
     "text": [
      "                Avg        Max\n",
      "ex        31.889168  68.551581\n",
      "L18       30.247735  56.749684\n",
      "N50       28.355534  64.565810\n",
      "720       27.901363  68.989445\n",
      "800       27.488971  64.311236\n",
      "743       27.481762  64.562650\n",
      "733       27.140929  74.774027\n",
      "N58       27.065617  62.153049\n",
      "n50       26.895931  69.235925\n",
      "734       26.728035  75.441655\n",
      "735       25.255074  76.109547\n",
      "L29       25.219980  65.335295\n",
      "705       25.173079  85.638606\n",
      "L25       24.994717  69.647142\n",
      "N03       24.822291  77.670163\n",
      "742       24.812982  78.408805\n",
      "N22       24.776700  97.926858\n",
      "173       24.726084  40.093916\n",
      "730       24.681231  59.768226\n",
      "411       24.501679  31.039068\n",
      "703       24.195847  66.068622\n",
      "N24       24.059581  49.094348\n",
      "N14       23.561410  74.192477\n",
      "345       23.403253  50.935896\n",
      "L20       23.208762  79.455982\n",
      "N13       23.189653  76.442329\n",
      "725       23.184597  95.858674\n",
      "N63       23.116978  76.947827\n",
      "736       22.921742  70.973856\n",
      "722       22.809098  70.055622\n",
      "...             ...        ...\n",
      "4         12.108236  75.372806\n",
      "155       11.919106  59.295544\n",
      "205       11.776197  83.804422\n",
      "208       11.634880  45.667901\n",
      "206       11.530635  37.772951\n",
      "222       11.514561  52.811363\n",
      "203       11.512322  85.227251\n",
      "193       11.386433  79.669744\n",
      "262       11.248776  64.441967\n",
      "175       11.102055  73.979950\n",
      "245       11.074667  50.765414\n",
      "14        11.040743  45.598779\n",
      "27        10.891440  48.708454\n",
      "165       10.680362  63.213649\n",
      "256       10.593544  56.666622\n",
      "128       10.530922  84.580119\n",
      "212       10.442159  36.364305\n",
      "Z-1       10.342811  87.511281\n",
      "L-5        9.959159  96.514220\n",
      "201        8.425989  88.574843\n",
      "221        8.395156  54.623008\n",
      "REZ/C93B   7.731111  40.822293\n",
      "Z          7.230706  71.375938\n",
      "31         5.993518  51.385098\n",
      "L-2        5.919930  92.728982\n",
      "900        5.062326  42.103211\n",
      "904        4.846211  47.989568\n",
      "REZ/C93    3.087798  94.579491\n",
      "903        2.047381  31.730509\n",
      "401        0.217779  10.534000\n",
      "\n",
      "[261 rows x 2 columns]\n"
     ]
    }
   ],
   "source": [
    "from script import createTable\n",
    "\n",
    "createTable()"
   ]
  },
  {
   "cell_type": "markdown",
   "metadata": {},
   "source": [
    "**Wnioski:** Powyższe wnioski potwierdza szczegółowe przedstawienie średniej prędkości dla każdej linii komunikacyjnej. Średnia prędkość autobusów jest wyższa w nocy niż dzień. Średnia prędkość dla obu środków transportów jest zbliżona."
   ]
  },
  {
   "cell_type": "markdown",
   "metadata": {},
   "source": [
    "#### 2.1.2 Przykładowe dzielnice"
   ]
  },
  {
   "cell_type": "markdown",
   "metadata": {},
   "source": [
    "<center>Wola</center>"
   ]
  },
  {
   "cell_type": "markdown",
   "metadata": {},
   "source": [
    "![Alt Text](plots/2_1_2a.png)"
   ]
  },
  {
   "cell_type": "markdown",
   "metadata": {},
   "source": [
    "<center>Mokotów</center>"
   ]
  },
  {
   "cell_type": "markdown",
   "metadata": {},
   "source": [
    "![Alt Text](plots/2_1_2b.png)"
   ]
  },
  {
   "cell_type": "markdown",
   "metadata": {},
   "source": [
    "<center>Ursynów</center>"
   ]
  },
  {
   "cell_type": "markdown",
   "metadata": {},
   "source": [
    "![Alt Text](plots/2_1_2c.png)"
   ]
  },
  {
   "cell_type": "markdown",
   "metadata": {},
   "source": [
    "<center>Białołęka</center>"
   ]
  },
  {
   "cell_type": "markdown",
   "metadata": {},
   "source": [
    "![Alt Text](plots/2_1_2d.png)"
   ]
  },
  {
   "cell_type": "markdown",
   "metadata": {},
   "source": [
    "<center>Porównanie autobusów</center>"
   ]
  },
  {
   "cell_type": "markdown",
   "metadata": {},
   "source": [
    "![Alt Text](plots/2_1_2e.png)"
   ]
  },
  {
   "cell_type": "markdown",
   "metadata": {},
   "source": [
    "<center>Porównanie tramwajów</center>"
   ]
  },
  {
   "cell_type": "markdown",
   "metadata": {},
   "source": [
    "![Alt Text](plots/2_1_2f.png)"
   ]
  },
  {
   "cell_type": "markdown",
   "metadata": {},
   "source": [
    "**Wnioski:** W analizie uwzględniono następujące dzielnice Warszawy: Wola, Mokotów, Ursynów, Białołęka. Na Woli i Mokotowie odnotowano zbliżone średnie prędkości środków komunikacji miejskiej, przy czym, w pierwszej analizowanej dzielnicy tramwaje jeżdżą nieco szybciej niż autobusy. Zaś na Mokotowie, autobusy posiadają nieco wyższą średnią prędkość. W obu przypadkach nie odnotowano nocnego kursowania tramwajów. Co ważne, w przypadku ruchu nocnych autobusów zauważono wyższą średnią prędkość niż wśród dziennych, przy czym na Woli średnia prędkość nocnych autobusów osiągała około 35 km/h. Największe różnice w kursowaniu autobusów i tramwajów występują na dwóch pozostałych obszarach. Zwraca uwagę niska średnia prędkość tramwajów na poziomie około 15 km/h oraz duże wahania ruchu autobusów nocnych, wśród których maksymalna prędkość dochodziła nawet do 40 km/h na Białołęce. Z wykresów prezentujących porównanie danych wysuwa się ciekawy wniosek wskazujący na fakt, że średnia prędkość autobusów na Woli należy do jednych z najniższych, zaś tramwajów – do jednych z najwyższych. \n"
   ]
  },
  {
   "cell_type": "markdown",
   "metadata": {},
   "source": [
    "## 2.2 Zagęszczenie pojazdów komunikacji miejskiej"
   ]
  },
  {
   "cell_type": "markdown",
   "metadata": {},
   "source": [
    "### 2.2.1 Warszawa ścisłe centrum i reszta"
   ]
  },
  {
   "cell_type": "markdown",
   "metadata": {},
   "source": [
    "<center>Zagęszczenie w Warszawie</center>"
   ]
  },
  {
   "cell_type": "markdown",
   "metadata": {},
   "source": [
    "![Alt Text](plots/2_2_1a.png)"
   ]
  },
  {
   "cell_type": "markdown",
   "metadata": {},
   "source": [
    "<center>Zagęszczenie w Warszawie, ścisłe centrum</center>"
   ]
  },
  {
   "cell_type": "markdown",
   "metadata": {},
   "source": [
    "![Alt Text](plots/2_2_1b.png)"
   ]
  },
  {
   "cell_type": "markdown",
   "metadata": {},
   "source": [
    "<center>Zagęszczenie w Warszawie, poza centrum</center>"
   ]
  },
  {
   "cell_type": "markdown",
   "metadata": {},
   "source": [
    "![Alt Text](plots/2_2_1c.png)"
   ]
  },
  {
   "cell_type": "markdown",
   "metadata": {},
   "source": [
    "**Wnioski:** Analiza danych dotyczących zagęszczenia pojazdów transportu miejskiego wyraźnie wskazuje na dominację autobusów, których liczba sięga ponad 700 w ciągu dnia (w porównaniu do tramwajów, których jest niecałe 200). W porach nocnych znacznie mniej autobusów oraz tramwajów można zobaczyć na warszawskich ulicach. \n",
    "\n",
    "Co ważne, w samym ścisłych centrum Warszawy kursuje sześciokrotnie mniej autobusów oraz tramwajów niż na pozostałych terenach.\n",
    "\n"
   ]
  },
  {
   "cell_type": "markdown",
   "metadata": {},
   "source": [
    "### 2.2.2 Przykładowe dzielnice"
   ]
  },
  {
   "cell_type": "markdown",
   "metadata": {},
   "source": [
    "<center>Wola</center>"
   ]
  },
  {
   "cell_type": "markdown",
   "metadata": {},
   "source": [
    "![Alt Text](plots/2_2_2a.png)"
   ]
  },
  {
   "cell_type": "markdown",
   "metadata": {},
   "source": [
    "<center>Mokotów</center>"
   ]
  },
  {
   "cell_type": "markdown",
   "metadata": {},
   "source": [
    "![Alt Text](plots/2_2_2b.png)"
   ]
  },
  {
   "cell_type": "markdown",
   "metadata": {},
   "source": [
    "<center>Ursynów</center>"
   ]
  },
  {
   "cell_type": "markdown",
   "metadata": {},
   "source": [
    "![Alt Text](plots/2_2_2c.png)"
   ]
  },
  {
   "cell_type": "markdown",
   "metadata": {},
   "source": [
    "<center>Białołęka</center>"
   ]
  },
  {
   "cell_type": "markdown",
   "metadata": {},
   "source": [
    "![Alt Text](plots/2_2_2d.png)"
   ]
  },
  {
   "cell_type": "markdown",
   "metadata": {},
   "source": [
    "<center>Porównanie autobusów</center>"
   ]
  },
  {
   "cell_type": "markdown",
   "metadata": {},
   "source": [
    "![Alt Text](plots/2_2_2e.png)"
   ]
  },
  {
   "cell_type": "markdown",
   "metadata": {},
   "source": [
    "<center>Porównanie tramwajów</center>"
   ]
  },
  {
   "cell_type": "markdown",
   "metadata": {},
   "source": [
    "![Alt Text](plots/2_2_2f.png)"
   ]
  },
  {
   "cell_type": "markdown",
   "metadata": {},
   "source": [
    "**Wnioski:** Mimo, iż na Woli występuje dwukrotnie mniej autobusów niż na Mokotowie, to liczba kursujących tam tramwajów jest najwyższa na tle pozostałych wybranych dzielnic. Najmniejszą liczbę autobusów odnotowano na Białołęce, a tramwajów na Ursynowie. W godzinach nocnych zaobserwowano zbliżoną (niewielką) liczbę środków transportu w poszczególnych dzielnicach. "
   ]
  },
  {
   "cell_type": "markdown",
   "metadata": {
    "collapsed": true
   },
   "source": [
    "## 3. Ruch pojazdow komunikacji w poniedziałek"
   ]
  },
  {
   "cell_type": "markdown",
   "metadata": {},
   "source": [
    "### 3.1 Prędkości pojazdów komunikacji miejskiej"
   ]
  },
  {
   "cell_type": "markdown",
   "metadata": {},
   "source": [
    "<center>Prędkość średnia w Warszawie</center>"
   ]
  },
  {
   "cell_type": "markdown",
   "metadata": {},
   "source": [
    "![Alt Text](plots/3_1a.png)"
   ]
  },
  {
   "cell_type": "markdown",
   "metadata": {},
   "source": [
    "<center>Prędkość średnia w Warszawie, ścisłe centrum</center>"
   ]
  },
  {
   "cell_type": "markdown",
   "metadata": {},
   "source": [
    "![Alt Text](plots/3_1b.png)"
   ]
  },
  {
   "cell_type": "markdown",
   "metadata": {},
   "source": [
    "<center>Prędkość średnia w Warszawie, poza centrum</center>"
   ]
  },
  {
   "cell_type": "markdown",
   "metadata": {},
   "source": [
    "![Alt Text](plots/3_1c.png)"
   ]
  },
  {
   "cell_type": "markdown",
   "metadata": {},
   "source": [
    "**Wnioski:** W ciągu dnia można zaobserwować zbliżoną średnią prędkość pojazdów bez dominacji któregokolwiek. Co ciekawe, nie zauważono ruchu tramwajów nie tylko nocą, ale także między godziną 21:00 a 22:00. \n",
    "W ścisłym centrum miasta zauważalna jest niewiele wyższa średnia prędkość tramwajów w ciągu dnia. W nocy widoczne są duże wahania prędkości autobusów. Poza centrum miasta, nieco szybciej jeżdżą autobusy, które nocą osiągają znacznie wyższe prędkości niż w dzień.\n"
   ]
  },
  {
   "cell_type": "markdown",
   "metadata": {},
   "source": [
    "### 3.2 Porównanie prędkości pojazdów komunikacji miejskiej ze soboty i poniedziałku"
   ]
  },
  {
   "cell_type": "markdown",
   "metadata": {},
   "source": [
    "### 3.2.1 Porównanie autobusów"
   ]
  },
  {
   "cell_type": "markdown",
   "metadata": {},
   "source": [
    "<center>Prędkość średnia w Warszawie</center>"
   ]
  },
  {
   "cell_type": "markdown",
   "metadata": {},
   "source": [
    "![Alt Text](plots/3_2_1a.png)"
   ]
  },
  {
   "cell_type": "markdown",
   "metadata": {},
   "source": [
    "<center>Prędkość średnia w Warszawie, ścisłe centrum</center>"
   ]
  },
  {
   "cell_type": "markdown",
   "metadata": {},
   "source": [
    "![Alt Text](plots/3_2_1b.png)"
   ]
  },
  {
   "cell_type": "markdown",
   "metadata": {},
   "source": [
    "<center>Prędkość średnia w Warszawie, poza centrum</center>"
   ]
  },
  {
   "cell_type": "markdown",
   "metadata": {},
   "source": [
    "![Alt Text](plots/3_2_1c.png)"
   ]
  },
  {
   "cell_type": "markdown",
   "metadata": {},
   "source": [
    "**Wnioski:** W ciągu dnia można zaobserwować zbliżoną średnią prędkość pojazdów bez dominacji któregokolwiek. Co ciekawe, nie zauważono ruchu tramwajów nie tylko nocą, ale także między godziną 21:00 a 22:00. \n",
    "W ścisłym centrum miasta zauważalna jest niewiele wyższa średnia prędkość tramwajów w ciągu dnia. W nocy widoczne są duże wahania prędkości autobusów. Poza centrum miasta, nieco szybciej jeżdżą autobusy, które nocą osiągają znacznie wyższe prędkości niż w dzień.\n"
   ]
  },
  {
   "cell_type": "markdown",
   "metadata": {},
   "source": [
    "### 3.2.1 Porównanie tramwajów"
   ]
  },
  {
   "cell_type": "markdown",
   "metadata": {},
   "source": [
    "<center>Prędkość średnia w Warszawie</center>"
   ]
  },
  {
   "cell_type": "markdown",
   "metadata": {},
   "source": [
    "![Alt Text](plots/3_2_2a.png)"
   ]
  },
  {
   "cell_type": "markdown",
   "metadata": {},
   "source": [
    "<center>Prędkość średnia w Warszawie, poza centrum</center>"
   ]
  },
  {
   "cell_type": "markdown",
   "metadata": {},
   "source": [
    "![Alt Text](plots/3_2_2b.png)"
   ]
  },
  {
   "cell_type": "markdown",
   "metadata": {},
   "source": [
    "<center>Prędkość średnia w Warszawie, poza centrum</center>"
   ]
  },
  {
   "cell_type": "markdown",
   "metadata": {},
   "source": [
    "![Alt Text](plots/3_2_2c.png)"
   ]
  },
  {
   "cell_type": "markdown",
   "metadata": {},
   "source": [
    "**Wnioski:** Analiza porównawcza średniej prędkości pojazdów komunikacji miejskiej pokazuje, że pojazdy nieco szybciej poruszały się w sobotę, zwłaszcza poza centrum miasta. Autobusy rano wolniej poruszaly się w poniedziałek, spewność jest to spowodowanę faktem, że ludzie jadą do pracy. Wieczorem zaś okazuje się, że autobusy w sobotę poruszają się wolniej. Przyczyną może być to, e jest to dzień wolny i więcej ludzi wychodzi wieczorem miło spędzić czas. Natomiast, w przypadku tramwajów obserwuje się zbliżoną prędkość w porównywanych dniach. "
   ]
  },
  {
   "cell_type": "markdown",
   "metadata": {
    "collapsed": true
   },
   "source": [
    "# 4. Kształty wybranych linii autobusowych i tramwajowych"
   ]
  },
  {
   "cell_type": "markdown",
   "metadata": {},
   "source": [
    "Napisaliśmy skrypt (`static_image_creator.py`), który na podstawie pobranych danych na temat położenia autobusów i tramwajów generuje dla każdej linii osobne mapki, z których można odczytać, gdzie autobus/tramwaj wybranej linii się znajdował. Jako że dane nanoszone na mapkę były z całego dnia, to gęstość zaznaczonych punktów jest na tyle duża, że jesteśmy w stanie zauważyć kształt konkretnej linii."
   ]
  },
  {
   "cell_type": "markdown",
   "metadata": {},
   "source": [
    "Z otrzymanych map tras można odczytać, że niektóre trasy były objazdami tj. nie każdy autobus danej linii przejeżdżał\n",
    "przez dany odcinek. Bowiem w tych właśnie miejscach gęstość \"kropek\" jest znacznie mniejsza."
   ]
  },
  {
   "cell_type": "markdown",
   "metadata": {},
   "source": [
    "Porównaliśmy kształty tras dla danych linii z soboty i poniedziałku. Większość sobotnich tras różni się\n",
    "od tras poniedziałkowych. Jednakże istnieją również linie, dla których kształt trasy nie ulega zmianie.\n",
    "Poniżej znajdują się dwa przykłady (pierwszy: różne trasy sobotnie/poniedziałkowe, drugi: takie same)"
   ]
  },
  {
   "cell_type": "markdown",
   "metadata": {},
   "source": [
    "* Linia 162 (poniedziałek):"
   ]
  },
  {
   "cell_type": "markdown",
   "metadata": {},
   "source": [
    "![Alt Text](162_poniedzialek.png)"
   ]
  },
  {
   "cell_type": "markdown",
   "metadata": {},
   "source": [
    "* Linia 162 (sobota)"
   ]
  },
  {
   "cell_type": "markdown",
   "metadata": {},
   "source": [
    "![Alt Text](162_sobota.png)"
   ]
  },
  {
   "cell_type": "markdown",
   "metadata": {},
   "source": [
    "* Linia 27 (poniedziałek)"
   ]
  },
  {
   "cell_type": "markdown",
   "metadata": {},
   "source": [
    "![Alt Text](27_poniedzialek.png)"
   ]
  },
  {
   "cell_type": "markdown",
   "metadata": {},
   "source": [
    "* Linia 27 (sobota)"
   ]
  },
  {
   "cell_type": "markdown",
   "metadata": {},
   "source": [
    "![Alt Text](27_sobota.png)"
   ]
  },
  {
   "cell_type": "markdown",
   "metadata": {},
   "source": [
    "## 4.1 Ciekawe wzory tras"
   ]
  },
  {
   "cell_type": "markdown",
   "metadata": {},
   "source": [
    "Większość wzorów linii autobusowych i tramwajowych jest podobna do \"tasiemek\", węży lub innych, zwykłych krzywych. Jednakże znaleźliśmy kilka linii, których wzory tras są wyjątkowo ciekawe i zdecydowanie mogą rozbudzić kreatywność czytelka. Poniżej każdej z zaprezentowanych tras znajdują się nasze propozycje interpretacji tych wzorów."
   ]
  },
  {
   "cell_type": "markdown",
   "metadata": {},
   "source": [
    "*  Linia numer 1 (trasa poniedziałkowa)"
   ]
  },
  {
   "cell_type": "markdown",
   "metadata": {},
   "source": [
    "![Alt Text](maps_creators/chosen_routes/1_poniedzialek.png)"
   ]
  },
  {
   "cell_type": "markdown",
   "metadata": {},
   "source": [
    "Proponujemy obrócić głowę o 90 stopni. Wówczas można zauważyć na powyższej mapce: zaciśniętą pięść, wieloryba z otwartą\n",
    "szczęką, czy też człowieka w czapce z daszkiem."
   ]
  },
  {
   "cell_type": "markdown",
   "metadata": {},
   "source": [
    "* Linia numer 207 (trasa sobotnia)"
   ]
  },
  {
   "cell_type": "markdown",
   "metadata": {},
   "source": [
    "![Alt Text](maps_creators/chosen_routes/207_sobota.png)"
   ]
  },
  {
   "cell_type": "markdown",
   "metadata": {},
   "source": [
    "W tym przypadku można zauważyć: nauszniki lub zestaw słuchawkowy wraz z mikrofonem"
   ]
  },
  {
   "cell_type": "markdown",
   "metadata": {},
   "source": [
    "* Linia numer 218 (trasa sobotnia)"
   ]
  },
  {
   "cell_type": "markdown",
   "metadata": {},
   "source": [
    "![Alt Text](maps_creators/chosen_routes/218_sobota.png)"
   ]
  },
  {
   "cell_type": "markdown",
   "metadata": {},
   "source": [
    "Tutaj możemy zauważyć głowę psa lub krokodyla"
   ]
  },
  {
   "cell_type": "markdown",
   "metadata": {},
   "source": [
    "* Linia 23 (trasa sobotnia)"
   ]
  },
  {
   "cell_type": "markdown",
   "metadata": {},
   "source": [
    "![Alt Text](maps_creators/chosen_routes/23_sobota.png)"
   ]
  },
  {
   "cell_type": "markdown",
   "metadata": {},
   "source": [
    "Na powyższym obrazku można dostrzec \"dwuząb\" (czy też wyszczerbiony widelec) lub ogon diabła "
   ]
  },
  {
   "cell_type": "markdown",
   "metadata": {},
   "source": [
    "* Linia 509 (trasa poniedziałkowa)"
   ]
  },
  {
   "cell_type": "markdown",
   "metadata": {},
   "source": [
    "![Alt Text](maps_creators/chosen_routes/509_poniedzialek.png)"
   ]
  },
  {
   "cell_type": "markdown",
   "metadata": {},
   "source": [
    "Na powyższej mapce możemy zauważyć odkurzacz"
   ]
  },
  {
   "cell_type": "markdown",
   "metadata": {},
   "source": [
    "* Linia 517 (trasa sobotnia)"
   ]
  },
  {
   "cell_type": "markdown",
   "metadata": {},
   "source": [
    "![Alt Text](maps_creators/chosen_routes/517_sobota.png)"
   ]
  },
  {
   "cell_type": "markdown",
   "metadata": {},
   "source": [
    "Warto zwrócić uwagę na kształt trasy znajdującej się po prawobrzeżnej stronie Wisły: możemy tam dostrzec np. głowę węża."
   ]
  },
  {
   "cell_type": "markdown",
   "metadata": {},
   "source": [
    "* Linia numer 716 (trasa sobotnia)"
   ]
  },
  {
   "cell_type": "markdown",
   "metadata": {},
   "source": [
    "![Alt Text](maps_creators/chosen_routes/716_sobota.png)"
   ]
  },
  {
   "cell_type": "markdown",
   "metadata": {},
   "source": [
    "Na powyższej mapce możemy zauważyć wspinającego lub czołgającego się człowieka"
   ]
  },
  {
   "cell_type": "markdown",
   "metadata": {},
   "source": [
    "* Linia 155 (trasa sobotnia)"
   ]
  },
  {
   "cell_type": "markdown",
   "metadata": {},
   "source": [
    "![Alt Text](maps_creators/chosen_routes/155_sobota.png)"
   ]
  },
  {
   "cell_type": "markdown",
   "metadata": {},
   "source": [
    "Tutaj można zauważyć ślimaka"
   ]
  },
  {
   "cell_type": "markdown",
   "metadata": {},
   "source": [
    "* Linia numer 154 (trasa poniedziałkowa)"
   ]
  },
  {
   "cell_type": "markdown",
   "metadata": {},
   "source": [
    "![Alt Text](maps_creators/chosen_routes/154_poniedzialek.png)"
   ]
  },
  {
   "cell_type": "markdown",
   "metadata": {},
   "source": [
    "Wystarczy przechylić głowę, aby zauważyć czołg"
   ]
  },
  {
   "cell_type": "markdown",
   "metadata": {},
   "source": [
    "# 5. Inne mapy wygenerowane na podstawie pobranych danych"
   ]
  },
  {
   "cell_type": "markdown",
   "metadata": {},
   "source": [
    "Oprócz \"statycznych map\" zaprezentowanych w poprzednim punkcie, stworzyliśmy również dwa skrypty:"
   ]
  },
  {
   "cell_type": "markdown",
   "metadata": {},
   "source": [
    "* `online_image_creator.py` - pobiera dane z API co 10 sekund i wyświetla na mapie aktualne położenie tramwajów i autobusów"
   ]
  },
  {
   "cell_type": "markdown",
   "metadata": {},
   "source": [
    "* `animated_image_creator.py` - dla danej bazy danych (położenie autobusów i tramwajów w ciągu całego dnia) generuje przyspieszoną symulację ruchu"
   ]
  },
  {
   "cell_type": "markdown",
   "metadata": {},
   "source": [
    "# 6. Najliczniejsze linie dla każdej godziny"
   ]
  },
  {
   "cell_type": "code",
   "execution_count": 25,
   "metadata": {
    "collapsed": false
   },
   "outputs": [],
   "source": [
    "import find_most_frequent_lines_per_hour as ff"
   ]
  },
  {
   "cell_type": "code",
   "execution_count": 20,
   "metadata": {
    "collapsed": true
   },
   "outputs": [],
   "source": [
    "import pandas as pd"
   ]
  },
  {
   "cell_type": "markdown",
   "metadata": {},
   "source": [
    "* Dla danych sobotnich (autobusy):"
   ]
  },
  {
   "cell_type": "code",
   "execution_count": 19,
   "metadata": {
    "collapsed": false
   },
   "outputs": [],
   "source": [
    "df_autobusy_sobota = pd.read_csv(\"csv_datasets/autobusySobota.csv\")"
   ]
  },
  {
   "cell_type": "code",
   "execution_count": 28,
   "metadata": {
    "collapsed": false
   },
   "outputs": [
    {
     "data": {
      "text/html": [
       "<div>\n",
       "<table border=\"1\" class=\"dataframe\">\n",
       "  <thead>\n",
       "    <tr style=\"text-align: right;\">\n",
       "      <th></th>\n",
       "      <th>hour</th>\n",
       "      <th>mostFrequentLine</th>\n",
       "      <th>uniqueBrigades</th>\n",
       "    </tr>\n",
       "  </thead>\n",
       "  <tbody>\n",
       "    <tr>\n",
       "      <th>0</th>\n",
       "      <td>0</td>\n",
       "      <td>Z</td>\n",
       "      <td>8</td>\n",
       "    </tr>\n",
       "    <tr>\n",
       "      <th>1</th>\n",
       "      <td>1</td>\n",
       "      <td>N01</td>\n",
       "      <td>6</td>\n",
       "    </tr>\n",
       "    <tr>\n",
       "      <th>2</th>\n",
       "      <td>2</td>\n",
       "      <td>N02</td>\n",
       "      <td>6</td>\n",
       "    </tr>\n",
       "    <tr>\n",
       "      <th>3</th>\n",
       "      <td>3</td>\n",
       "      <td>N01</td>\n",
       "      <td>6</td>\n",
       "    </tr>\n",
       "    <tr>\n",
       "      <th>4</th>\n",
       "      <td>4</td>\n",
       "      <td>105</td>\n",
       "      <td>7</td>\n",
       "    </tr>\n",
       "    <tr>\n",
       "      <th>5</th>\n",
       "      <td>5</td>\n",
       "      <td>116</td>\n",
       "      <td>10</td>\n",
       "    </tr>\n",
       "    <tr>\n",
       "      <th>6</th>\n",
       "      <td>6</td>\n",
       "      <td>112</td>\n",
       "      <td>14</td>\n",
       "    </tr>\n",
       "    <tr>\n",
       "      <th>7</th>\n",
       "      <td>7</td>\n",
       "      <td>116</td>\n",
       "      <td>16</td>\n",
       "    </tr>\n",
       "    <tr>\n",
       "      <th>8</th>\n",
       "      <td>8</td>\n",
       "      <td>116</td>\n",
       "      <td>16</td>\n",
       "    </tr>\n",
       "    <tr>\n",
       "      <th>9</th>\n",
       "      <td>9</td>\n",
       "      <td>116</td>\n",
       "      <td>16</td>\n",
       "    </tr>\n",
       "    <tr>\n",
       "      <th>10</th>\n",
       "      <td>10</td>\n",
       "      <td>116</td>\n",
       "      <td>16</td>\n",
       "    </tr>\n",
       "    <tr>\n",
       "      <th>11</th>\n",
       "      <td>11</td>\n",
       "      <td>116</td>\n",
       "      <td>16</td>\n",
       "    </tr>\n",
       "    <tr>\n",
       "      <th>12</th>\n",
       "      <td>12</td>\n",
       "      <td>116</td>\n",
       "      <td>16</td>\n",
       "    </tr>\n",
       "    <tr>\n",
       "      <th>13</th>\n",
       "      <td>13</td>\n",
       "      <td>116</td>\n",
       "      <td>16</td>\n",
       "    </tr>\n",
       "    <tr>\n",
       "      <th>14</th>\n",
       "      <td>14</td>\n",
       "      <td>116</td>\n",
       "      <td>16</td>\n",
       "    </tr>\n",
       "    <tr>\n",
       "      <th>15</th>\n",
       "      <td>15</td>\n",
       "      <td>116</td>\n",
       "      <td>16</td>\n",
       "    </tr>\n",
       "    <tr>\n",
       "      <th>16</th>\n",
       "      <td>16</td>\n",
       "      <td>116</td>\n",
       "      <td>16</td>\n",
       "    </tr>\n",
       "    <tr>\n",
       "      <th>17</th>\n",
       "      <td>17</td>\n",
       "      <td>116</td>\n",
       "      <td>16</td>\n",
       "    </tr>\n",
       "    <tr>\n",
       "      <th>18</th>\n",
       "      <td>18</td>\n",
       "      <td>116</td>\n",
       "      <td>16</td>\n",
       "    </tr>\n",
       "    <tr>\n",
       "      <th>19</th>\n",
       "      <td>19</td>\n",
       "      <td>116</td>\n",
       "      <td>16</td>\n",
       "    </tr>\n",
       "    <tr>\n",
       "      <th>20</th>\n",
       "      <td>20</td>\n",
       "      <td>116</td>\n",
       "      <td>16</td>\n",
       "    </tr>\n",
       "    <tr>\n",
       "      <th>21</th>\n",
       "      <td>21</td>\n",
       "      <td>112</td>\n",
       "      <td>14</td>\n",
       "    </tr>\n",
       "    <tr>\n",
       "      <th>22</th>\n",
       "      <td>22</td>\n",
       "      <td>509</td>\n",
       "      <td>13</td>\n",
       "    </tr>\n",
       "    <tr>\n",
       "      <th>23</th>\n",
       "      <td>23</td>\n",
       "      <td>509</td>\n",
       "      <td>11</td>\n",
       "    </tr>\n",
       "  </tbody>\n",
       "</table>\n",
       "</div>"
      ],
      "text/plain": [
       "    hour mostFrequentLine  uniqueBrigades\n",
       "0      0                Z               8\n",
       "1      1              N01               6\n",
       "2      2              N02               6\n",
       "3      3              N01               6\n",
       "4      4              105               7\n",
       "5      5              116              10\n",
       "6      6              112              14\n",
       "7      7              116              16\n",
       "8      8              116              16\n",
       "9      9              116              16\n",
       "10    10              116              16\n",
       "11    11              116              16\n",
       "12    12              116              16\n",
       "13    13              116              16\n",
       "14    14              116              16\n",
       "15    15              116              16\n",
       "16    16              116              16\n",
       "17    17              116              16\n",
       "18    18              116              16\n",
       "19    19              116              16\n",
       "20    20              116              16\n",
       "21    21              112              14\n",
       "22    22              509              13\n",
       "23    23              509              11"
      ]
     },
     "execution_count": 28,
     "metadata": {},
     "output_type": "execute_result"
    }
   ],
   "source": [
    "ff.get_most_frequent_lines_per_hour(df_autobusy_sobota)"
   ]
  },
  {
   "cell_type": "markdown",
   "metadata": {},
   "source": [
    "** Wnioski ** Od około godziny 7-mej do 20-stej jest najwięcej składów dla pojedynczej linii. W trakcie dnia dominującą linią autobusową jest linia 1186, a w nocy, co raczej nie jest zaskakujące, linie nocne, których liczność składów jest taka sama"
   ]
  },
  {
   "cell_type": "markdown",
   "metadata": {},
   "source": [
    "* Dla danych sobotnich (tramwaje)"
   ]
  },
  {
   "cell_type": "code",
   "execution_count": 30,
   "metadata": {
    "collapsed": true
   },
   "outputs": [],
   "source": [
    "df_tramwaje_sobota = pd.read_csv(\"csv_datasets/tramwajeSobota.csv\")"
   ]
  },
  {
   "cell_type": "code",
   "execution_count": 31,
   "metadata": {
    "collapsed": false
   },
   "outputs": [
    {
     "data": {
      "text/html": [
       "<div>\n",
       "<table border=\"1\" class=\"dataframe\">\n",
       "  <thead>\n",
       "    <tr style=\"text-align: right;\">\n",
       "      <th></th>\n",
       "      <th>hour</th>\n",
       "      <th>mostFrequentLine</th>\n",
       "      <th>uniqueBrigades</th>\n",
       "    </tr>\n",
       "  </thead>\n",
       "  <tbody>\n",
       "    <tr>\n",
       "      <th>0</th>\n",
       "      <td>0</td>\n",
       "      <td>9</td>\n",
       "      <td>22</td>\n",
       "    </tr>\n",
       "    <tr>\n",
       "      <th>1</th>\n",
       "      <td>1</td>\n",
       "      <td>9</td>\n",
       "      <td>11</td>\n",
       "    </tr>\n",
       "    <tr>\n",
       "      <th>2</th>\n",
       "      <td>3</td>\n",
       "      <td>9</td>\n",
       "      <td>2</td>\n",
       "    </tr>\n",
       "    <tr>\n",
       "      <th>3</th>\n",
       "      <td>4</td>\n",
       "      <td>9</td>\n",
       "      <td>12</td>\n",
       "    </tr>\n",
       "    <tr>\n",
       "      <th>4</th>\n",
       "      <td>5</td>\n",
       "      <td>9</td>\n",
       "      <td>12</td>\n",
       "    </tr>\n",
       "    <tr>\n",
       "      <th>5</th>\n",
       "      <td>6</td>\n",
       "      <td>9</td>\n",
       "      <td>15</td>\n",
       "    </tr>\n",
       "    <tr>\n",
       "      <th>6</th>\n",
       "      <td>7</td>\n",
       "      <td>9</td>\n",
       "      <td>16</td>\n",
       "    </tr>\n",
       "    <tr>\n",
       "      <th>7</th>\n",
       "      <td>8</td>\n",
       "      <td>9</td>\n",
       "      <td>16</td>\n",
       "    </tr>\n",
       "    <tr>\n",
       "      <th>8</th>\n",
       "      <td>9</td>\n",
       "      <td>9</td>\n",
       "      <td>16</td>\n",
       "    </tr>\n",
       "    <tr>\n",
       "      <th>9</th>\n",
       "      <td>10</td>\n",
       "      <td>9</td>\n",
       "      <td>16</td>\n",
       "    </tr>\n",
       "    <tr>\n",
       "      <th>10</th>\n",
       "      <td>11</td>\n",
       "      <td>9</td>\n",
       "      <td>16</td>\n",
       "    </tr>\n",
       "    <tr>\n",
       "      <th>11</th>\n",
       "      <td>12</td>\n",
       "      <td>9</td>\n",
       "      <td>16</td>\n",
       "    </tr>\n",
       "    <tr>\n",
       "      <th>12</th>\n",
       "      <td>13</td>\n",
       "      <td>9</td>\n",
       "      <td>16</td>\n",
       "    </tr>\n",
       "    <tr>\n",
       "      <th>13</th>\n",
       "      <td>14</td>\n",
       "      <td>9</td>\n",
       "      <td>16</td>\n",
       "    </tr>\n",
       "    <tr>\n",
       "      <th>14</th>\n",
       "      <td>15</td>\n",
       "      <td>9</td>\n",
       "      <td>16</td>\n",
       "    </tr>\n",
       "    <tr>\n",
       "      <th>15</th>\n",
       "      <td>16</td>\n",
       "      <td>9</td>\n",
       "      <td>16</td>\n",
       "    </tr>\n",
       "    <tr>\n",
       "      <th>16</th>\n",
       "      <td>17</td>\n",
       "      <td>9</td>\n",
       "      <td>16</td>\n",
       "    </tr>\n",
       "    <tr>\n",
       "      <th>17</th>\n",
       "      <td>18</td>\n",
       "      <td>9</td>\n",
       "      <td>16</td>\n",
       "    </tr>\n",
       "    <tr>\n",
       "      <th>18</th>\n",
       "      <td>19</td>\n",
       "      <td>9</td>\n",
       "      <td>16</td>\n",
       "    </tr>\n",
       "    <tr>\n",
       "      <th>19</th>\n",
       "      <td>20</td>\n",
       "      <td>9</td>\n",
       "      <td>16</td>\n",
       "    </tr>\n",
       "    <tr>\n",
       "      <th>20</th>\n",
       "      <td>21</td>\n",
       "      <td>9</td>\n",
       "      <td>13</td>\n",
       "    </tr>\n",
       "    <tr>\n",
       "      <th>21</th>\n",
       "      <td>22</td>\n",
       "      <td>9</td>\n",
       "      <td>13</td>\n",
       "    </tr>\n",
       "    <tr>\n",
       "      <th>22</th>\n",
       "      <td>23</td>\n",
       "      <td>9</td>\n",
       "      <td>13</td>\n",
       "    </tr>\n",
       "  </tbody>\n",
       "</table>\n",
       "</div>"
      ],
      "text/plain": [
       "    hour  mostFrequentLine  uniqueBrigades\n",
       "0      0                 9              22\n",
       "1      1                 9              11\n",
       "2      3                 9               2\n",
       "3      4                 9              12\n",
       "4      5                 9              12\n",
       "5      6                 9              15\n",
       "6      7                 9              16\n",
       "7      8                 9              16\n",
       "8      9                 9              16\n",
       "9     10                 9              16\n",
       "10    11                 9              16\n",
       "11    12                 9              16\n",
       "12    13                 9              16\n",
       "13    14                 9              16\n",
       "14    15                 9              16\n",
       "15    16                 9              16\n",
       "16    17                 9              16\n",
       "17    18                 9              16\n",
       "18    19                 9              16\n",
       "19    20                 9              16\n",
       "20    21                 9              13\n",
       "21    22                 9              13\n",
       "22    23                 9              13"
      ]
     },
     "execution_count": 31,
     "metadata": {},
     "output_type": "execute_result"
    }
   ],
   "source": [
    "ff.get_most_frequent_lines_per_hour(df_tramwaje_sobota)"
   ]
  },
  {
   "cell_type": "markdown",
   "metadata": {},
   "source": [
    "**Wnioski** W przypadku tramwajów \"wygrywa\" linia numer 9. Tak dużą liczbę tramwajów o północy można wytłumaczyć tym, że kończą one w tym okresie bieg."
   ]
  },
  {
   "cell_type": "markdown",
   "metadata": {},
   "source": [
    "* Dla danych poniedziałkowych (autobusy)"
   ]
  },
  {
   "cell_type": "code",
   "execution_count": 34,
   "metadata": {
    "collapsed": false
   },
   "outputs": [],
   "source": [
    "df_autobusy_poniedzialek = pd.read_csv(\"csv_datasets/autobusyPoniedzialek.csv\", low_memory=False)"
   ]
  },
  {
   "cell_type": "code",
   "execution_count": 35,
   "metadata": {
    "collapsed": false
   },
   "outputs": [
    {
     "data": {
      "text/html": [
       "<div>\n",
       "<table border=\"1\" class=\"dataframe\">\n",
       "  <thead>\n",
       "    <tr style=\"text-align: right;\">\n",
       "      <th></th>\n",
       "      <th>hour</th>\n",
       "      <th>mostFrequentLine</th>\n",
       "      <th>uniqueBrigades</th>\n",
       "    </tr>\n",
       "  </thead>\n",
       "  <tbody>\n",
       "    <tr>\n",
       "      <th>0</th>\n",
       "      <td>0</td>\n",
       "      <td>105</td>\n",
       "      <td>6</td>\n",
       "    </tr>\n",
       "    <tr>\n",
       "      <th>1</th>\n",
       "      <td>1</td>\n",
       "      <td>N01</td>\n",
       "      <td>6</td>\n",
       "    </tr>\n",
       "    <tr>\n",
       "      <th>2</th>\n",
       "      <td>2</td>\n",
       "      <td>N01</td>\n",
       "      <td>6</td>\n",
       "    </tr>\n",
       "    <tr>\n",
       "      <th>3</th>\n",
       "      <td>3</td>\n",
       "      <td>N01</td>\n",
       "      <td>6</td>\n",
       "    </tr>\n",
       "    <tr>\n",
       "      <th>4</th>\n",
       "      <td>4</td>\n",
       "      <td>136</td>\n",
       "      <td>12</td>\n",
       "    </tr>\n",
       "    <tr>\n",
       "      <th>5</th>\n",
       "      <td>5</td>\n",
       "      <td>509</td>\n",
       "      <td>26</td>\n",
       "    </tr>\n",
       "    <tr>\n",
       "      <th>6</th>\n",
       "      <td>6</td>\n",
       "      <td>509</td>\n",
       "      <td>28</td>\n",
       "    </tr>\n",
       "    <tr>\n",
       "      <th>7</th>\n",
       "      <td>7</td>\n",
       "      <td>509</td>\n",
       "      <td>28</td>\n",
       "    </tr>\n",
       "    <tr>\n",
       "      <th>8</th>\n",
       "      <td>8</td>\n",
       "      <td>105</td>\n",
       "      <td>27</td>\n",
       "    </tr>\n",
       "    <tr>\n",
       "      <th>9</th>\n",
       "      <td>9</td>\n",
       "      <td>105</td>\n",
       "      <td>26</td>\n",
       "    </tr>\n",
       "    <tr>\n",
       "      <th>10</th>\n",
       "      <td>10</td>\n",
       "      <td>105</td>\n",
       "      <td>23</td>\n",
       "    </tr>\n",
       "    <tr>\n",
       "      <th>11</th>\n",
       "      <td>11</td>\n",
       "      <td>105</td>\n",
       "      <td>18</td>\n",
       "    </tr>\n",
       "    <tr>\n",
       "      <th>12</th>\n",
       "      <td>12</td>\n",
       "      <td>190</td>\n",
       "      <td>19</td>\n",
       "    </tr>\n",
       "    <tr>\n",
       "      <th>13</th>\n",
       "      <td>13</td>\n",
       "      <td>190</td>\n",
       "      <td>23</td>\n",
       "    </tr>\n",
       "    <tr>\n",
       "      <th>14</th>\n",
       "      <td>14</td>\n",
       "      <td>105</td>\n",
       "      <td>27</td>\n",
       "    </tr>\n",
       "    <tr>\n",
       "      <th>15</th>\n",
       "      <td>15</td>\n",
       "      <td>105</td>\n",
       "      <td>27</td>\n",
       "    </tr>\n",
       "    <tr>\n",
       "      <th>16</th>\n",
       "      <td>16</td>\n",
       "      <td>105</td>\n",
       "      <td>27</td>\n",
       "    </tr>\n",
       "    <tr>\n",
       "      <th>17</th>\n",
       "      <td>17</td>\n",
       "      <td>105</td>\n",
       "      <td>27</td>\n",
       "    </tr>\n",
       "    <tr>\n",
       "      <th>18</th>\n",
       "      <td>18</td>\n",
       "      <td>105</td>\n",
       "      <td>27</td>\n",
       "    </tr>\n",
       "    <tr>\n",
       "      <th>19</th>\n",
       "      <td>19</td>\n",
       "      <td>105</td>\n",
       "      <td>21</td>\n",
       "    </tr>\n",
       "    <tr>\n",
       "      <th>20</th>\n",
       "      <td>20</td>\n",
       "      <td>190</td>\n",
       "      <td>18</td>\n",
       "    </tr>\n",
       "    <tr>\n",
       "      <th>21</th>\n",
       "      <td>21</td>\n",
       "      <td>116</td>\n",
       "      <td>17</td>\n",
       "    </tr>\n",
       "    <tr>\n",
       "      <th>22</th>\n",
       "      <td>22</td>\n",
       "      <td>116</td>\n",
       "      <td>14</td>\n",
       "    </tr>\n",
       "    <tr>\n",
       "      <th>23</th>\n",
       "      <td>23</td>\n",
       "      <td>112</td>\n",
       "      <td>12</td>\n",
       "    </tr>\n",
       "  </tbody>\n",
       "</table>\n",
       "</div>"
      ],
      "text/plain": [
       "    hour mostFrequentLine  uniqueBrigades\n",
       "0      0              105               6\n",
       "1      1              N01               6\n",
       "2      2              N01               6\n",
       "3      3              N01               6\n",
       "4      4              136              12\n",
       "5      5              509              26\n",
       "6      6              509              28\n",
       "7      7              509              28\n",
       "8      8              105              27\n",
       "9      9              105              26\n",
       "10    10              105              23\n",
       "11    11              105              18\n",
       "12    12              190              19\n",
       "13    13              190              23\n",
       "14    14              105              27\n",
       "15    15              105              27\n",
       "16    16              105              27\n",
       "17    17              105              27\n",
       "18    18              105              27\n",
       "19    19              105              21\n",
       "20    20              190              18\n",
       "21    21              116              17\n",
       "22    22              116              14\n",
       "23    23              112              12"
      ]
     },
     "execution_count": 35,
     "metadata": {},
     "output_type": "execute_result"
    }
   ],
   "source": [
    "ff.get_most_frequent_lines_per_hour(df_autobusy_poniedzialek)"
   ]
  },
  {
   "cell_type": "markdown",
   "metadata": {},
   "source": [
    "** Wnioski** Można zauważyć, że w porównaniu z sobotnimi wynikami, jest większe zróżnicowanie najczęstszych linii oraz ich wartość jest większa w porównaniu z sobotą"
   ]
  },
  {
   "cell_type": "markdown",
   "metadata": {},
   "source": [
    "* Dla danych poniedziałkowych (tramwaje)"
   ]
  },
  {
   "cell_type": "code",
   "execution_count": 36,
   "metadata": {
    "collapsed": true
   },
   "outputs": [],
   "source": [
    "df_tramwaje_poniedzialek = pd.read_csv(\"csv_datasets/tramwajePoniedzialek.csv\", low_memory=False)"
   ]
  },
  {
   "cell_type": "code",
   "execution_count": 37,
   "metadata": {
    "collapsed": false
   },
   "outputs": [
    {
     "data": {
      "text/html": [
       "<div>\n",
       "<table border=\"1\" class=\"dataframe\">\n",
       "  <thead>\n",
       "    <tr style=\"text-align: right;\">\n",
       "      <th></th>\n",
       "      <th>hour</th>\n",
       "      <th>mostFrequentLine</th>\n",
       "      <th>uniqueBrigades</th>\n",
       "    </tr>\n",
       "  </thead>\n",
       "  <tbody>\n",
       "    <tr>\n",
       "      <th>0</th>\n",
       "      <td>0</td>\n",
       "      <td>9</td>\n",
       "      <td>19</td>\n",
       "    </tr>\n",
       "    <tr>\n",
       "      <th>1</th>\n",
       "      <td>1</td>\n",
       "      <td>9</td>\n",
       "      <td>10</td>\n",
       "    </tr>\n",
       "    <tr>\n",
       "      <th>2</th>\n",
       "      <td>3</td>\n",
       "      <td>9</td>\n",
       "      <td>4</td>\n",
       "    </tr>\n",
       "    <tr>\n",
       "      <th>3</th>\n",
       "      <td>4</td>\n",
       "      <td>9</td>\n",
       "      <td>13</td>\n",
       "    </tr>\n",
       "    <tr>\n",
       "      <th>4</th>\n",
       "      <td>5</td>\n",
       "      <td>9</td>\n",
       "      <td>20</td>\n",
       "    </tr>\n",
       "    <tr>\n",
       "      <th>5</th>\n",
       "      <td>6</td>\n",
       "      <td>9</td>\n",
       "      <td>30</td>\n",
       "    </tr>\n",
       "    <tr>\n",
       "      <th>6</th>\n",
       "      <td>7</td>\n",
       "      <td>9</td>\n",
       "      <td>30</td>\n",
       "    </tr>\n",
       "    <tr>\n",
       "      <th>7</th>\n",
       "      <td>8</td>\n",
       "      <td>9</td>\n",
       "      <td>30</td>\n",
       "    </tr>\n",
       "    <tr>\n",
       "      <th>8</th>\n",
       "      <td>9</td>\n",
       "      <td>9</td>\n",
       "      <td>30</td>\n",
       "    </tr>\n",
       "    <tr>\n",
       "      <th>9</th>\n",
       "      <td>10</td>\n",
       "      <td>9</td>\n",
       "      <td>26</td>\n",
       "    </tr>\n",
       "    <tr>\n",
       "      <th>10</th>\n",
       "      <td>11</td>\n",
       "      <td>9</td>\n",
       "      <td>22</td>\n",
       "    </tr>\n",
       "    <tr>\n",
       "      <th>11</th>\n",
       "      <td>12</td>\n",
       "      <td>9</td>\n",
       "      <td>23</td>\n",
       "    </tr>\n",
       "    <tr>\n",
       "      <th>12</th>\n",
       "      <td>13</td>\n",
       "      <td>9</td>\n",
       "      <td>29</td>\n",
       "    </tr>\n",
       "    <tr>\n",
       "      <th>13</th>\n",
       "      <td>14</td>\n",
       "      <td>9</td>\n",
       "      <td>31</td>\n",
       "    </tr>\n",
       "    <tr>\n",
       "      <th>14</th>\n",
       "      <td>15</td>\n",
       "      <td>9</td>\n",
       "      <td>30</td>\n",
       "    </tr>\n",
       "    <tr>\n",
       "      <th>15</th>\n",
       "      <td>16</td>\n",
       "      <td>9</td>\n",
       "      <td>31</td>\n",
       "    </tr>\n",
       "    <tr>\n",
       "      <th>16</th>\n",
       "      <td>17</td>\n",
       "      <td>9</td>\n",
       "      <td>31</td>\n",
       "    </tr>\n",
       "    <tr>\n",
       "      <th>17</th>\n",
       "      <td>18</td>\n",
       "      <td>9</td>\n",
       "      <td>30</td>\n",
       "    </tr>\n",
       "    <tr>\n",
       "      <th>18</th>\n",
       "      <td>19</td>\n",
       "      <td>9</td>\n",
       "      <td>26</td>\n",
       "    </tr>\n",
       "    <tr>\n",
       "      <th>19</th>\n",
       "      <td>20</td>\n",
       "      <td>9</td>\n",
       "      <td>19</td>\n",
       "    </tr>\n",
       "    <tr>\n",
       "      <th>20</th>\n",
       "      <td>21</td>\n",
       "      <td>9</td>\n",
       "      <td>16</td>\n",
       "    </tr>\n",
       "    <tr>\n",
       "      <th>21</th>\n",
       "      <td>22</td>\n",
       "      <td>9</td>\n",
       "      <td>11</td>\n",
       "    </tr>\n",
       "    <tr>\n",
       "      <th>22</th>\n",
       "      <td>23</td>\n",
       "      <td>9</td>\n",
       "      <td>11</td>\n",
       "    </tr>\n",
       "  </tbody>\n",
       "</table>\n",
       "</div>"
      ],
      "text/plain": [
       "    hour  mostFrequentLine  uniqueBrigades\n",
       "0      0                 9              19\n",
       "1      1                 9              10\n",
       "2      3                 9               4\n",
       "3      4                 9              13\n",
       "4      5                 9              20\n",
       "5      6                 9              30\n",
       "6      7                 9              30\n",
       "7      8                 9              30\n",
       "8      9                 9              30\n",
       "9     10                 9              26\n",
       "10    11                 9              22\n",
       "11    12                 9              23\n",
       "12    13                 9              29\n",
       "13    14                 9              31\n",
       "14    15                 9              30\n",
       "15    16                 9              31\n",
       "16    17                 9              31\n",
       "17    18                 9              30\n",
       "18    19                 9              26\n",
       "19    20                 9              19\n",
       "20    21                 9              16\n",
       "21    22                 9              11\n",
       "22    23                 9              11"
      ]
     },
     "execution_count": 37,
     "metadata": {},
     "output_type": "execute_result"
    }
   ],
   "source": [
    "ff.get_most_frequent_lines_per_hour(df_tramwaje_poniedzialek)"
   ]
  },
  {
   "cell_type": "markdown",
   "metadata": {},
   "source": [
    "**Wnioski** W przypadku tramwajów nadal \"faworytem\" jest linia numer 9. Jednakże liczność różnych składów jest większa w poniedziałek niż w sobotę"
   ]
  }
 ],
 "metadata": {
  "kernelspec": {
   "display_name": "Python 3",
   "language": "python",
   "name": "python3"
  },
  "language_info": {
   "codemirror_mode": {
    "name": "ipython",
    "version": 3
   },
   "file_extension": ".py",
   "mimetype": "text/x-python",
   "name": "python",
   "nbconvert_exporter": "python",
   "pygments_lexer": "ipython3",
   "version": "3.6.0"
  }
 },
 "nbformat": 4,
 "nbformat_minor": 2
}
