{
 "cells": [
  {
   "cell_type": "markdown",
   "metadata": {},
   "source": [
    "![Alt Text](logo.png)"
   ]
  },
  {
   "cell_type": "markdown",
   "metadata": {},
   "source": [
    "### <center>Wydział Matematyki i Nauk Informacyjnych </center>"
   ]
  },
  {
   "cell_type": "markdown",
   "metadata": {},
   "source": [
    "## <center>Słowik Jadwiga i Sudra Sebastian</center>"
   ]
  },
  {
   "cell_type": "markdown",
   "metadata": {},
   "source": [
    "# <center>Warsaw - Transport</center>"
   ]
  },
  {
   "cell_type": "markdown",
   "metadata": {},
   "source": [
    "## 1. Zbieranie danych"
   ]
  },
  {
   "cell_type": "markdown",
   "metadata": {},
   "source": [
    "W dniach 27.05.2017 (sobota) i 28.05.2017 (poniedziałek) zbieraliśmy dane na temat tramwaji i autobusów online. Zapytania wysyłaliśmy cały dzień co 30 s.\n",
    "\tDane były pobierane przez serwis dane po warszawsku, który udostepniał serwer Api. Do pobierania i deserializowania wykorzystaliśmy pakiety: request i json w python.\n",
    "\tW poniższym raporcie przedstawimy prędkości komunikacji miejskiej, a także jej zagęszczenie. Sprawdzimy, w jakich dzielnicach komunikacja działa najsprawniej, a także porównamy ilość tramwaji do autobusów.\n",
    "\tNiestety czasami dostaliśmy dane zaburzone... coś by tu napisać o tym"
   ]
  },
  {
   "cell_type": "markdown",
   "metadata": {},
   "source": [
    "## 2. Ruch pojazdow komunikacji w sobotę"
   ]
  },
  {
   "cell_type": "markdown",
   "metadata": {},
   "source": [
    "### 2.1 Prędkości pojazdów komunikacji miejskiej"
   ]
  },
  {
   "cell_type": "markdown",
   "metadata": {},
   "source": [
    "#### 2.1.1 Warszawa ścisłe centrum i reszta"
   ]
  },
  {
   "cell_type": "markdown",
   "metadata": {},
   "source": [
    "<center>Prędkość średnia w Warszwie</center>"
   ]
  },
  {
   "cell_type": "markdown",
   "metadata": {},
   "source": [
    "![Alt Text](plots/2_1_1a.png)"
   ]
  },
  {
   "cell_type": "markdown",
   "metadata": {},
   "source": [
    "<center>Prędkość średnia w Warszwie, ścisłe centrum</center>"
   ]
  },
  {
   "cell_type": "markdown",
   "metadata": {},
   "source": [
    "![Alt Text](myCentrum.bmp)"
   ]
  },
  {
   "cell_type": "markdown",
   "metadata": {},
   "source": [
    "![Alt Text](plots/2_1_1b.png)"
   ]
  },
  {
   "cell_type": "markdown",
   "metadata": {},
   "source": [
    "<center>Prędkość średnia w Warszwie, poza centrum</center>"
   ]
  },
  {
   "cell_type": "markdown",
   "metadata": {},
   "source": [
    "![Alt Text](plots/2_1_1c.png)"
   ]
  },
  {
   "cell_type": "markdown",
   "metadata": {},
   "source": [
    "**Wnioski:**"
   ]
  },
  {
   "cell_type": "markdown",
   "metadata": {},
   "source": [
    "<center>Przedstawienie prędkości dla każdej lini</center>"
   ]
  },
  {
   "cell_type": "code",
   "execution_count": 3,
   "metadata": {
    "collapsed": false
   },
   "outputs": [
    {
     "name": "stdout",
     "output_type": "stream",
     "text": [
      "               Avg        Max\n",
      "205      81.797928  81.797928\n",
      "110      41.767573  60.125770\n",
      "ex       34.906675  68.551581\n",
      "114      31.090196  31.090196\n",
      "188      27.412602  56.623394\n",
      "523      25.942715  65.021461\n",
      "n02      24.774670  53.375490\n",
      "411      24.501679  31.039068\n",
      "182      23.683015  56.898587\n",
      "197      23.409689  23.409689\n",
      "138      22.911666  46.864433\n",
      "185      21.190954  44.266318\n",
      "187      19.957066  56.914923\n",
      "503      18.892545  56.061165\n",
      "167      18.579809  52.684272\n",
      "151      18.045341  51.846172\n",
      "521      17.672365  50.921548\n",
      "N32      16.918934  38.393011\n",
      "N41      16.822743  57.669144\n",
      "517      16.545046  67.393049\n",
      "157      16.193627  34.272114\n",
      "N38      16.051228  42.363199\n",
      "20       15.695982  64.130145\n",
      "143      15.538709  49.614834\n",
      "N85      15.526314  46.956416\n",
      "N21      15.465647  52.732919\n",
      "520      15.318511  66.720528\n",
      "134      15.294959  15.294959\n",
      "17       15.265500  60.577646\n",
      "N25      15.137108  58.467335\n",
      "...            ...        ...\n",
      "N34       9.912257  58.238581\n",
      "109       9.147467  62.909504\n",
      "171       9.019478  59.237093\n",
      "105       8.769596  45.943149\n",
      "141       8.677128  50.542890\n",
      "160       8.412099  54.819932\n",
      "178       8.391950  30.645942\n",
      "131       8.294213  67.128438\n",
      "175       8.173515  60.745361\n",
      "N43       8.159278  48.430400\n",
      "128       7.672362  42.877702\n",
      "184       7.625509  29.682862\n",
      "166       6.900818  61.416772\n",
      "222       6.666637  42.537575\n",
      "522       6.624267  49.084528\n",
      "102       6.411164  37.221788\n",
      "31        5.993518  51.385098\n",
      "174       5.686304  47.775902\n",
      "518       5.525778  55.658013\n",
      "227       5.484688  54.991614\n",
      "159       5.425440  35.199008\n",
      "700       5.200961  47.513859\n",
      "117       5.008079  53.269743\n",
      "514       4.784632  58.925575\n",
      "107       4.624377  35.937327\n",
      "500       4.317739  36.572210\n",
      "501       4.124411  55.569866\n",
      "108       3.452991  49.172191\n",
      "155       3.393606  17.969566\n",
      "REZ/C93   0.927203  41.886701\n",
      "\n",
      "[125 rows x 2 columns]\n"
     ]
    }
   ],
   "source": [
    "from script import createTable\n",
    "\n",
    "createTable()"
   ]
  },
  {
   "cell_type": "markdown",
   "metadata": {},
   "source": [
    "**Wnioski:**"
   ]
  },
  {
   "cell_type": "markdown",
   "metadata": {},
   "source": [
    "#### 2.1.2 Przykładowe dzielnice"
   ]
  },
  {
   "cell_type": "markdown",
   "metadata": {},
   "source": [
    "<center>Wola</center>"
   ]
  },
  {
   "cell_type": "markdown",
   "metadata": {},
   "source": [
    "![Alt Text](plots/2_1_2a.png)"
   ]
  },
  {
   "cell_type": "markdown",
   "metadata": {},
   "source": [
    "<center>Mokotów</center>"
   ]
  },
  {
   "cell_type": "markdown",
   "metadata": {},
   "source": [
    "![Alt Text](plots/2_1_2b.png)"
   ]
  },
  {
   "cell_type": "markdown",
   "metadata": {},
   "source": [
    "<center>Ursynów</center>"
   ]
  },
  {
   "cell_type": "markdown",
   "metadata": {},
   "source": [
    "![Alt Text](plots/2_1_2c.png)"
   ]
  },
  {
   "cell_type": "markdown",
   "metadata": {},
   "source": [
    "<center>Białołęka</center>"
   ]
  },
  {
   "cell_type": "markdown",
   "metadata": {},
   "source": [
    "![Alt Text](plots/2_1_2d.png)"
   ]
  },
  {
   "cell_type": "markdown",
   "metadata": {},
   "source": [
    "<center>Porównanie autobusów</center>"
   ]
  },
  {
   "cell_type": "markdown",
   "metadata": {},
   "source": [
    "![Alt Text](plots/2_1_2e.png)"
   ]
  },
  {
   "cell_type": "markdown",
   "metadata": {},
   "source": [
    "<center>Porównanie tramwajów</center>"
   ]
  },
  {
   "cell_type": "markdown",
   "metadata": {},
   "source": [
    "![Alt Text](plots/2_1_2f.png)"
   ]
  },
  {
   "cell_type": "markdown",
   "metadata": {},
   "source": [
    "**Wnioski:**"
   ]
  },
  {
   "cell_type": "markdown",
   "metadata": {},
   "source": [
    "## 2.2 Zagęszczenie pojazdów komunikacji miejskiej"
   ]
  },
  {
   "cell_type": "markdown",
   "metadata": {},
   "source": [
    "### 2.2.1 Warszawa ścisłe centrum i reszta"
   ]
  },
  {
   "cell_type": "markdown",
   "metadata": {},
   "source": [
    "<center>Zagęszczenie w Warszwie</center>"
   ]
  },
  {
   "cell_type": "markdown",
   "metadata": {},
   "source": [
    "![Alt Text](plots/2_2_1a.png)"
   ]
  },
  {
   "cell_type": "markdown",
   "metadata": {},
   "source": [
    "<center>Zagęszczenie w Warszwie, ścisłe centrum</center>"
   ]
  },
  {
   "cell_type": "markdown",
   "metadata": {},
   "source": [
    "![Alt Text](plots/2_2_1b.png)"
   ]
  },
  {
   "cell_type": "markdown",
   "metadata": {},
   "source": [
    "<center>Zagęszczenie w Warszwie, poza centrum</center>"
   ]
  },
  {
   "cell_type": "markdown",
   "metadata": {},
   "source": [
    "![Alt Text](plots/2_2_1c.png)"
   ]
  },
  {
   "cell_type": "markdown",
   "metadata": {},
   "source": [
    "**Wnioski:**"
   ]
  },
  {
   "cell_type": "markdown",
   "metadata": {},
   "source": [
    "### 2.2.2 Przykładowe dzielnice"
   ]
  },
  {
   "cell_type": "markdown",
   "metadata": {},
   "source": [
    "<center>Wola</center>"
   ]
  },
  {
   "cell_type": "markdown",
   "metadata": {},
   "source": [
    "![Alt Text](plots/2_2_2a.png)"
   ]
  },
  {
   "cell_type": "markdown",
   "metadata": {},
   "source": [
    "<center>Mokotów</center>"
   ]
  },
  {
   "cell_type": "markdown",
   "metadata": {},
   "source": [
    "![Alt Text](plots/2_2_2b.png)"
   ]
  },
  {
   "cell_type": "markdown",
   "metadata": {},
   "source": [
    "<center>Ursynów</center>"
   ]
  },
  {
   "cell_type": "markdown",
   "metadata": {},
   "source": [
    "![Alt Text](plots/2_2_2c.png)"
   ]
  },
  {
   "cell_type": "markdown",
   "metadata": {},
   "source": [
    "<center>Białołęka</center>"
   ]
  },
  {
   "cell_type": "markdown",
   "metadata": {},
   "source": [
    "![Alt Text](plots/2_2_2d.png)"
   ]
  },
  {
   "cell_type": "markdown",
   "metadata": {},
   "source": [
    "<center>Porównanie autobusów</center>"
   ]
  },
  {
   "cell_type": "markdown",
   "metadata": {},
   "source": [
    "![Alt Text](plots/2_2_2e.png)"
   ]
  },
  {
   "cell_type": "markdown",
   "metadata": {},
   "source": [
    "<center>Porównanie tramwajów</center>"
   ]
  },
  {
   "cell_type": "markdown",
   "metadata": {},
   "source": [
    "![Alt Text](plots/2_2_2f.png)"
   ]
  },
  {
   "cell_type": "markdown",
   "metadata": {},
   "source": [
    "**Wnioski:**"
   ]
  },
  {
   "cell_type": "markdown",
   "metadata": {
    "collapsed": true
   },
   "source": [
    "## 3. Ruch pojazdow komunikacji w poniedziałek"
   ]
  },
  {
   "cell_type": "markdown",
   "metadata": {},
   "source": [
    "### 3.1 Prędkości pojazdów komunikacji miejskiej"
   ]
  },
  {
   "cell_type": "markdown",
   "metadata": {},
   "source": [
    "<center>Prędkość średnia w Warszwie</center>"
   ]
  },
  {
   "cell_type": "markdown",
   "metadata": {},
   "source": [
    "![Alt Text](plots/3_1a.png)"
   ]
  },
  {
   "cell_type": "markdown",
   "metadata": {},
   "source": [
    "<center>Prędkość średnia w Warszwie, ścisłe centrum</center>"
   ]
  },
  {
   "cell_type": "markdown",
   "metadata": {},
   "source": [
    "![Alt Text](plots/3_1b.png)"
   ]
  },
  {
   "cell_type": "markdown",
   "metadata": {},
   "source": [
    "<center>Prędkość średnia w Warszwie, poza centrum</center>"
   ]
  },
  {
   "cell_type": "markdown",
   "metadata": {},
   "source": [
    "![Alt Text](plots/3_1c.png)"
   ]
  },
  {
   "cell_type": "markdown",
   "metadata": {},
   "source": [
    "**Wnioski:**"
   ]
  },
  {
   "cell_type": "markdown",
   "metadata": {},
   "source": [
    "### 3.2 Porównanie prędkości pojazdów komunikacji miejskiej ze soboty i poniedziałku"
   ]
  },
  {
   "cell_type": "markdown",
   "metadata": {},
   "source": [
    "### 3.2.1 Porównanie autobusów"
   ]
  },
  {
   "cell_type": "markdown",
   "metadata": {},
   "source": [
    "<center>Prędkość średnia w Warszwie</center>"
   ]
  },
  {
   "cell_type": "markdown",
   "metadata": {},
   "source": [
    "![Alt Text](plots/3_2_1a.png)"
   ]
  },
  {
   "cell_type": "markdown",
   "metadata": {},
   "source": [
    "<center>Prędkość średnia w Warszwie, ścisłe centrum</center>"
   ]
  },
  {
   "cell_type": "markdown",
   "metadata": {},
   "source": [
    "![Alt Text](plots/3_2_1b.png)"
   ]
  },
  {
   "cell_type": "markdown",
   "metadata": {},
   "source": [
    "<center>Prędkość średnia w Warszwie, poza centrum</center>"
   ]
  },
  {
   "cell_type": "markdown",
   "metadata": {},
   "source": [
    "![Alt Text](plots/3_2_1c.png)"
   ]
  },
  {
   "cell_type": "markdown",
   "metadata": {},
   "source": [
    "**Wnioski:**"
   ]
  },
  {
   "cell_type": "markdown",
   "metadata": {},
   "source": [
    "### 3.2.1 Porównanie tramwajów"
   ]
  },
  {
   "cell_type": "markdown",
   "metadata": {},
   "source": [
    "<center>Prędkość średnia w Warszwie</center>"
   ]
  },
  {
   "cell_type": "markdown",
   "metadata": {},
   "source": [
    "![Alt Text](plots/3_2_2a.png)"
   ]
  },
  {
   "cell_type": "markdown",
   "metadata": {},
   "source": [
    "<center>Prędkość średnia w Warszwie, poza centrum</center>"
   ]
  },
  {
   "cell_type": "markdown",
   "metadata": {},
   "source": [
    "![Alt Text](plots/3_2_2b.png)"
   ]
  },
  {
   "cell_type": "markdown",
   "metadata": {},
   "source": [
    "<center>Prędkość średnia w Warszwie, poza centrum</center>"
   ]
  },
  {
   "cell_type": "markdown",
   "metadata": {},
   "source": [
    "![Alt Text](plots/3_2_2c.png)"
   ]
  },
  {
   "cell_type": "markdown",
   "metadata": {},
   "source": [
    "**Wnioski:**"
   ]
  }
 ],
 "metadata": {
  "kernelspec": {
   "display_name": "Python 3",
   "language": "python",
   "name": "python3"
  },
  "language_info": {
   "codemirror_mode": {
    "name": "ipython",
    "version": 3
   },
   "file_extension": ".py",
   "mimetype": "text/x-python",
   "name": "python",
   "nbconvert_exporter": "python",
   "pygments_lexer": "ipython3",
   "version": "3.6.0"
  }
 },
 "nbformat": 4,
 "nbformat_minor": 2
}
